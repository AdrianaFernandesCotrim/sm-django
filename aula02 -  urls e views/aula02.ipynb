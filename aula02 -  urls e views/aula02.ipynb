{
 "cells": [
  {
   "cell_type": "markdown",
   "metadata": {},
   "source": [
    "# Urls e Views"
   ]
  },
  {
   "cell_type": "markdown",
   "metadata": {},
   "source": [
    "## Http\n",
    "\n",
    "Antes de vermos oque é e como funcionam as Urls e Views do Django, é preciso aprender sobre oque é e como funciona o http.\n",
    "\n",
    "HTTP (Hypertext Transfer Protocol) é o protocolo utilizado para a comunicação entre navegadores (ou outros clientes) e servidores na web. Ele define como as requisições e respostas devem ser formatadas, transmitidas e manipuladas na Internet. Quando você acessa um site ou faz uma solicitação por meio de um aplicativo, o HTTP é o protocolo que gerencia essa comunicação."
   ]
  },
  {
   "cell_type": "markdown",
   "metadata": {},
   "source": [
    "### Principais Características do HTTP"
   ]
  },
  {
   "cell_type": "markdown",
   "metadata": {},
   "source": [
    "**Baseado em Texto**: HTTP usa mensagens legíveis por humanos, compostas por linhas de texto, o que facilita o desenvolvimento e depuração.\n",
    "\n",
    "**Protocolo Sem Estado (Stateless)**: Cada requisição HTTP é independente, ou seja, o servidor não armazena nenhuma informação sobre requisições anteriores do mesmo cliente. Para contornar essa limitação e manter sessões de usuário, utiliza-se cookies, sessões e outras técnicas.\n",
    "\n",
    "**Arquitetura Cliente-Servidor**: O cliente (por exemplo, um navegador ou app) envia uma requisição ao servidor, que processa a solicitação e responde com os dados apropriados, como uma página HTML, um arquivo JSON ou uma imagem.\n",
    "\n",
    "**Usado na Web e APIs**: Além de carregar páginas web, HTTP é amplamente utilizado para APIs (interfaces de programação de aplicações), permitindo a comunicação entre serviços de backend, mobile, etc.\n",
    "\n",
    "**HTTPS (HTTP Secure)**: Uma versão do HTTP que utiliza criptografia SSL/TLS, garantindo que os dados transmitidos entre o cliente e o servidor estejam seguros contra interceptações e ataques.\n",
    "\n"
   ]
  },
  {
   "cell_type": "markdown",
   "metadata": {},
   "source": [
    "### Metodos Http"
   ]
  },
  {
   "cell_type": "markdown",
   "metadata": {},
   "source": [
    "Existem vários métodos HTTP, cada um com uma finalidade específica:\n",
    "\n",
    "**GET**: Usado para solicitar dados do servidor. Não modifica o estado do servidor.\n",
    "\n",
    "**POST**: Envia dados ao servidor, geralmente para criar um novo recurso ou enviar informações de \n",
    "um formulário.\n",
    "\n",
    "**PUT**: Atualiza um recurso existente no servidor.\n",
    "\n",
    "**DELETE**: Remove um recurso."
   ]
  },
  {
   "cell_type": "markdown",
   "metadata": {},
   "source": [
    "### Codigo De Status Http"
   ]
  },
  {
   "cell_type": "markdown",
   "metadata": {},
   "source": [
    "**2xx (Sucesso)**: A requisição foi bem-sucedida\n",
    "\n",
    "200 OK: A requisição foi bem-sucedida.\n",
    "\n",
    "201 Created: Um novo recurso foi criado."
   ]
  },
  {
   "cell_type": "markdown",
   "metadata": {},
   "source": [
    "**3xx (Redirecionamento)**: Indica que o cliente precisa fazer algo mais, como seguir um redirecionamento.\n",
    "\n",
    "301 Moved Permanently: O recurso foi movido permanentemente.\n",
    "\n",
    "302 Found: O recurso está temporariamente em outro local."
   ]
  },
  {
   "cell_type": "markdown",
   "metadata": {},
   "source": [
    "**4xx (Erro do Cliente)**: A requisição contém erro ou não pode ser processada pelo servidor.\n",
    "\n",
    "400 Bad Request: A requisição é inválida.\n",
    "\n",
    "401 Unauthorized: A autenticação é necessária.\n",
    "\n",
    "404 Not Found: O recurso não foi encontrado."
   ]
  },
  {
   "cell_type": "markdown",
   "metadata": {},
   "source": [
    "**5xx (Erro do Servidor)**: Ocorreu um erro no servidor.\n",
    "\n",
    "500 Internal Server Error: Ocorreu um erro no servidor.\n",
    "\n",
    "503 Service Unavailable: O servidor está temporariamente indisponível."
   ]
  },
  {
   "cell_type": "markdown",
   "metadata": {},
   "source": [
    "### API\n",
    "\n",
    "API significa Interface de Programação de Aplicações (ou Application Programming Interface, em inglês). Em termos simples, uma API é um conjunto de regras e definições que permite que diferentes softwares se comuniquem entre si. Imagine uma API como um garçom em um restaurante que leva o seu pedido para a cozinha e traz a comida de volta para você."
   ]
  },
  {
   "cell_type": "markdown",
   "metadata": {},
   "source": [
    "#### Analogias Simples"
   ]
  },
  {
   "cell_type": "markdown",
   "metadata": {},
   "source": [
    "**Restaurante**:\n",
    "\n",
    "Você (Usuário): Você faz um pedido ao garçom.\n",
    "\n",
    "Garçom (API): O garçom leva o pedido à cozinha e traz a comida para você.\n",
    "\n",
    "Cozinha (Sistema): A cozinha prepara a comida conforme o pedido.\n",
    "\n",
    "**No contexto de uma API**:\n",
    "\n",
    "Você é o software que faz o pedido de dados ou ações.\n",
    "\n",
    "O garçom é a API que faz a comunicação entre você e o sistema que fornece os dados ou executa as ações.\n",
    "\n",
    "A cozinha é o sistema que processa o pedido e retorna a resposta."
   ]
  },
  {
   "cell_type": "markdown",
   "metadata": {},
   "source": [
    "![request](https://encrypted-tbn0.gstatic.com/images?q=tbn:ANd9GcTWoo3wfOn2L036PrDZMxS60fBsmnCAaCrvEw&s)"
   ]
  },
  {
   "cell_type": "markdown",
   "metadata": {},
   "source": [
    "\n",
    "**Integração**: APIs permitem que diferentes sistemas e aplicações se integrem e trabalhem juntos, mesmo que tenham sido desenvolvidos por diferentes equipes ou empresas.\n",
    "\n",
    "**Reutilização**: Você pode usar uma API existente para adicionar funcionalidades ao seu aplicativo sem precisar reescrever o código do zero.\n",
    "\n",
    "**Segurança**: APIs podem fornecer uma camada de segurança entre o seu aplicativo e os dados ou serviços com os quais você está interagindo."
   ]
  },
  {
   "cell_type": "markdown",
   "metadata": {},
   "source": [
    "## Views"
   ]
  },
  {
   "cell_type": "markdown",
   "metadata": {},
   "source": [
    "As views são funções ou classes que processam a requisição e devolvem uma resposta, que pode ser uma página HTML, um JSON, ou até uma mensagem simples de texto. Elas fazem a \"lógica\" do que acontece quando alguém acessa uma URL."
   ]
  },
  {
   "cell_type": "markdown",
   "metadata": {},
   "source": [
    "### Como Funciona?"
   ]
  },
  {
   "cell_type": "markdown",
   "metadata": {},
   "source": [
    "Quando uma URL é acessada, a view correspondente é chamada.\n",
    "\n",
    "A view pode acessar o banco de dados, processar dados recebidos, ou apenas gerar uma resposta diretamente.\n",
    "\n",
    "Por fim, a view retorna uma resposta (geralmente um HttpResponse ou JsonResponse), que é enviada de volta ao navegador ou aplicativo que fez a requisição."
   ]
  },
  {
   "cell_type": "code",
   "execution_count": null,
   "metadata": {},
   "outputs": [],
   "source": [
    "# views.py\n",
    "import json\n",
    "from django.http import JsonResponse\n",
    "\n",
    "# Lista inicial de produtos\n",
    "lista_produtos = ['pão', 'queijo', 'coca cola']\n",
    "\n",
    "#Exemplo GET\n",
    "def lista_produtos_get(request):\n",
    "    if request.method == 'GET':\n",
    "        return JsonResponse({'produtos': lista_produtos})\n",
    "    else:\n",
    "        return JsonResponse({'erro': 'Método não permitido'}, status=405)"
   ]
  },
  {
   "cell_type": "code",
   "execution_count": null,
   "metadata": {},
   "outputs": [],
   "source": [
    "#Exemplo put\n",
    "def lista_produtos_put(request):\n",
    "    if request.method == 'PUT':\n",
    "        try:\n",
    "            body = json.loads(request.body)  # Lê o corpo da requisição JSON\n",
    "            nome_antigo = body.get('nome_antigo')\n",
    "            nome_novo = body.get('nome_novo')\n",
    "            if nome_antigo in lista_produtos:\n",
    "                index = lista_produtos.index(nome_antigo)\n",
    "                lista_produtos[index] = nome_novo\n",
    "                return JsonResponse({'mensagem': 'Produto atualizado', 'produtos': lista_produtos})\n",
    "            else:\n",
    "                return JsonResponse({'erro': 'Produto não encontrado'}, status=404)\n",
    "        except json.JSONDecodeError:\n",
    "            return JsonResponse({'erro': 'JSON inválido'}, status=400)\n",
    "    else:\n",
    "        return JsonResponse({'erro': 'Método não permitido'}, status=405)\n"
   ]
  },
  {
   "cell_type": "code",
   "execution_count": null,
   "metadata": {},
   "outputs": [],
   "source": [
    "#Exemplo post\n",
    "def lista_produtos_post(request):\n",
    "    if request.method == 'POST':\n",
    "        try:\n",
    "            body = json.loads(request.body)  # Lê o corpo da requisição JSON\n",
    "            novo_produto = body.get('nome')\n",
    "            if novo_produto:\n",
    "                lista_produtos.append(novo_produto)\n",
    "                return JsonResponse({'mensagem': 'Produto adicionado', 'produtos': lista_produtos})\n",
    "            else:\n",
    "                return JsonResponse({'erro': 'Nome do produto não informado'}, status=400)\n",
    "            \n",
    "        except json.JSONDecodeError:\n",
    "            return JsonResponse({'erro': 'JSON inválido'}, status=400)\n",
    "    else:\n",
    "        return JsonResponse({'erro': 'Método não permitido'}, status=405)\n"
   ]
  },
  {
   "cell_type": "code",
   "execution_count": null,
   "metadata": {},
   "outputs": [],
   "source": [
    "#Exemplo Delete\n",
    "def lista_produtos_delete(request):\n",
    "    if request.method == 'DELETE':\n",
    "        try:\n",
    "            body = json.loads(request.body)  # Lê o corpo da requisição JSON\n",
    "            produto_remover = body.get('nome')\n",
    "            if produto_remover in lista_produtos:\n",
    "                lista_produtos.remove(produto_remover)\n",
    "                return JsonResponse({'mensagem': 'Produto removido', 'produtos': lista_produtos})\n",
    "            else:\n",
    "                return JsonResponse({'erro': 'Produto não encontrado'}, status=404)\n",
    "            \n",
    "        except json.JSONDecodeError:\n",
    "            return JsonResponse({'erro': 'JSON inválido'}, status=400)\n",
    "    else:\n",
    "        return JsonResponse({'erro': 'Método não permitido'}, status=405)\n"
   ]
  },
  {
   "cell_type": "markdown",
   "metadata": {},
   "source": [
    "## Urls\n",
    "\n",
    "As URLs são responsáveis por mapear as requisições HTTP (como acessar uma página ou uma API) para as funções ou classes que irão tratá-las. No Django, isso é feito no arquivo _urls.py_."
   ]
  },
  {
   "cell_type": "markdown",
   "metadata": {},
   "source": [
    "### Como Funciona?"
   ]
  },
  {
   "cell_type": "markdown",
   "metadata": {},
   "source": [
    "Quando o usuário acessa uma URL (por exemplo, /produtos/), o Django olha no arquivo urls.py para encontrar uma rota correspondente.\n",
    "\n",
    "Se encontrar, ele chama a view associada a essa URL para processar a requisição.\n",
    "\n",
    "Se não encontrar, ele retorna um erro de \"Página não encontrada\" (404)."
   ]
  },
  {
   "cell_type": "code",
   "execution_count": null,
   "metadata": {},
   "outputs": [],
   "source": [
    "from django.urls import path\n",
    "from . import views  # Importa o arquivo views.py onde estão as funções de resposta\n",
    "\n",
    "urlpatterns = [\n",
    "    path('produtos/', views.lista_produtos, name='lista_produtos'),  # Associa a URL '/produtos/' com a função 'lista_produtos'\n",
    "]"
   ]
  },
  {
   "cell_type": "markdown",
   "metadata": {},
   "source": [
    "O path('produtos/', views.lista_produtos) está dizendo que quando alguém acessar /produtos/, o Django chamará a função lista_produtos que está no arquivo views.py.\n",
    "\n",
    "O name='lista_produtos' é um nome opcional que facilita referenciar essa URL em outras partes do código."
   ]
  },
  {
   "cell_type": "markdown",
   "metadata": {},
   "source": [
    "###  Conectar as URLs do App ao Projeto Principal"
   ]
  },
  {
   "cell_type": "markdown",
   "metadata": {},
   "source": [
    "Agora, você precisa conectar as URLs do app produtos no arquivo principal de URLs do projeto. Este arquivo geralmente está localizado em urls.py na pasta raiz do projeto, onde o Django lida com todas as rotas principais."
   ]
  },
  {
   "cell_type": "code",
   "execution_count": null,
   "metadata": {},
   "outputs": [],
   "source": [
    "# projeto_principal/urls.py (core urls.py)\n",
    "from django.contrib import admin\n",
    "from django.urls import path, include  # Importa o include\n",
    "\n",
    "urlpatterns = [\n",
    "    path('admin/', admin.site.urls),\n",
    "    path('produtos/', include('app.urls')),  # Inclui as URLs do app 'produtos'\n",
    "]\n"
   ]
  },
  {
   "cell_type": "markdown",
   "metadata": {},
   "source": [
    "O include() é usado para importar as URLs do app.\n",
    "\n",
    "A linha path('produtos/', include('app.urls')) faz com que qualquer URL que comece com /produtos/ seja enviada para o arquivo produtos/urls.py do app. Dentro desse arquivo, podemos definir rotas adicionais, como /criar-produto/."
   ]
  },
  {
   "cell_type": "markdown",
   "metadata": {},
   "source": [
    "## Atividade"
   ]
  },
  {
   "cell_type": "markdown",
   "metadata": {},
   "source": [
    "Você está desenvolvendo uma aplicação Django e precisa criar uma view que lida com requisições HTTP GET e POST para gerenciar a criação e a exibição de um recurso. O recurso em questão é um \"Produto\" que possui os seguintes campos: nome, preço, e descrição.\n",
    "\n",
    "Criação da View:\n",
    "\n",
    "Crie uma view que permite a criação de novos produtos via requisições HTTP POST e a exibição de uma lista de produtos via requisições HTTP GET. Utilize uma função baseada em view (function-based view)."
   ]
  }
 ],
 "metadata": {
  "language_info": {
   "name": "python"
  }
 },
 "nbformat": 4,
 "nbformat_minor": 2
}

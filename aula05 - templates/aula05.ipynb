{
 "cells": [
  {
   "cell_type": "markdown",
   "metadata": {},
   "source": [
    "# Templates"
   ]
  },
  {
   "cell_type": "markdown",
   "metadata": {},
   "source": [
    "##  Introdução ao HTML\n",
    "\n",
    "Antes de trabalharmos diretamente com templates no Django, é importante entender a estrutura básica do HTML, que será fundamental para renderizar as informações do backend para o frontend de forma clara e eficaz."
   ]
  },
  {
   "cell_type": "markdown",
   "metadata": {},
   "source": [
    "### O que é HTML?\n",
    "\n",
    "HTML, ou HyperText Markup Language, é a linguagem de marcação usada para criar e\n",
    "estruturar conteúdo em páginas web. Ela utiliza uma série de tags para definir\n",
    "diferentes elementos na página.\n",
    "\n",
    "Quando você acessa uma página web através de um navegador, ele interpreta o\n",
    "código HTML e o renderiza de forma compreensível para o usuário, exibindo textos,\n",
    "botões, e outros elementos conforme definido pelo código HTML.\n",
    "\n",
    "A estrutura básica do HTML é o esqueleto de uma página web, que define como o conteúdo será\n",
    "organizado e exibido no navegador. Cada documento deve usar elementos fundamentais para\n",
    "garantir a interpretação correta pelos navegadores."
   ]
  },
  {
   "cell_type": "markdown",
   "metadata": {},
   "source": [
    "### Importancia"
   ]
  },
  {
   "cell_type": "markdown",
   "metadata": {},
   "source": [
    "**Organização do documento**: Garante páginas web bem\n",
    "estruturadas.\n",
    "\n",
    "**Compatibilidade com navegadores**: Assegura exibição\n",
    "correta em todos os navegadores.\n",
    "\n",
    "**Acessibilidade e SEO**: Melhora a indexação e a\n",
    "acessibilidade."
   ]
  },
  {
   "cell_type": "code",
   "execution_count": null,
   "metadata": {
    "vscode": {
     "languageId": "html"
    }
   },
   "outputs": [],
   "source": [
    "<!DOCTYPE html>\n",
    "<html lang=\"pt-BR\">\n",
    "<head>\n",
    "    <meta charset=\"UTF-8\">\n",
    "    <meta name=\"viewport\" content=\"width=device-width, initial-scale=1.0\">\n",
    "    <title>Meu Primeiro Documento HTML</title>\n",
    "</head>\n",
    "<body>\n",
    "    \n",
    "        <h1>Bem-vindo ao meu site!</h1>\n",
    "        <h2>Sobre Mim</h2>\n",
    "\n",
    "        <p>Sou um desenvolvedor web apaixonado por aprender novas tecnologias.</p>\n",
    "            <h2>Meus Projetos</h2>\n",
    "            \n",
    "            <ul>\n",
    "                <li>Projeto 1</li>\n",
    "                <li>Projeto 2</li>\n",
    "                <li>Projeto 3</li>\n",
    "            </ul>\n",
    "    \n",
    "        <p>© 2024 Meu Site</p>\n",
    "    \n",
    "</body>\n",
    "</html>\n"
   ]
  },
  {
   "cell_type": "code",
   "execution_count": null,
   "metadata": {
    "vscode": {
     "languageId": "html"
    }
   },
   "outputs": [],
   "source": [
    "<!DOCTYPE html>: Informa ao navegador que estamos usando HTML5.\n",
    "\n",
    "<html lang=\"pt-BR\">: A tag <html> define o início do documento HTML. O atributo lang especifica o idioma da página (neste caso, português do Brasil).\n",
    "\n",
    "<head>: Contém metadados sobre a página, como o título e o charset (conjunto de caracteres).\n",
    "\n",
    "<meta charset=\"UTF-8\">: Define a codificação de caracteres como UTF-8, garantindo suporte para \n",
    "caracteres especiais.\n",
    "\n",
    "<meta name=\"viewport\" content=\"width=device-width, initial-scale=1.0\">: Torna a página responsiva,\n",
    " ajustando-se para diferentes tamanhos de tela.\n",
    "\n",
    "<title>: Define o título da página, que aparecerá na aba do navegador.\n",
    "\n",
    "<body>: Tudo o que aparece visualmente no navegador está dentro da tag <body>, como cabeçalhos,\n",
    " parágrafos, imagens, etc.\n",
    "\n",
    "<h1>: Tag de cabeçalho para títulos principais.\n",
    "\n",
    "<p>: Usada para definir parágrafos.\n",
    "\n",
    "<ul>:lista não ordenada\n",
    "\n",
    "OBS: Nem todas as tags HTML possuem abertura e fechamento. Algumas\n",
    "tags são auto-fechadas, como <img>,<br>, e <hr>, e não necessitam de uma\n",
    "tag de fechamento. Essas tags são usadas para inserir elementos que não\n",
    "contêm conteúdo, como imagens, quebras de linha e linhas horizontais."
   ]
  },
  {
   "cell_type": "markdown",
   "metadata": {},
   "source": [
    "### Atividade Pratica"
   ]
  },
  {
   "cell_type": "markdown",
   "metadata": {},
   "source": [
    "1 - Nome Completo:\n",
    "Use um título para apresentar seu nome completo de forma clara e\n",
    "destacada.\n",
    "\n",
    "2 - Quem é Você:\n",
    "Escreva um parágrafo detalhado sobre quem você é, incluindo\n",
    "informações sobre sua identidade, interesses e talvez um pouco\n",
    "sobre suas experiências.\n",
    "\n",
    "3 - Onde Vive:\n",
    "Use outro parágrafo para descrever onde você vive, mencionando a\n",
    "cidade ou região."
   ]
  },
  {
   "cell_type": "markdown",
   "metadata": {},
   "source": [
    "## Como o HTML se integra com Templates no Django"
   ]
  },
  {
   "cell_type": "markdown",
   "metadata": {},
   "source": [
    "Agora que entendemos a estrutura básica do HTML, vamos ver como ela se relaciona com os templates no Django.\n",
    "\n",
    "Quando criamos páginas dinâmicas, o Django usa arquivos HTML como templates, mas com a Django Template Language (DTL), podemos injetar dados dinâmicos vindos das views. Isso significa que, ao invés de ter conteúdo estático no HTML (como \"Carlos\" em uma página estática), podemos ter dados dinâmicos (por exemplo, o nome de cada usuário logado)."
   ]
  },
  {
   "cell_type": "markdown",
   "metadata": {},
   "source": [
    "### Estrutura típica de um Template no Django"
   ]
  },
  {
   "cell_type": "markdown",
   "metadata": {},
   "source": [
    "#### Diretórios e arquivos de template\n",
    "\n",
    "Os arquivos de template são geralmente armazenados dentro de uma pasta chamada templates/ no diretório do seu aplicativo Django.\n"
   ]
  },
  {
   "cell_type": "raw",
   "metadata": {
    "vscode": {
     "languageId": "raw"
    }
   },
   "source": [
    "myproject/\n",
    "├── myapp/\n",
    "│   ├── templates/\n",
    "│   │   └── myapp/\n",
    "│   │       └── pagina_inicial.html"
   ]
  },
  {
   "cell_type": "markdown",
   "metadata": {},
   "source": [
    "#### Por que seguir uma estrutura específica?"
   ]
  },
  {
   "cell_type": "markdown",
   "metadata": {},
   "source": [
    "Ao usar templates, é importante manter a organização do projeto para:\n",
    "\n",
    "- Facilitar a manutenção do código.\n",
    "- Permitir a reutilização de templates.\n",
    "- Manter a lógica separada do design."
   ]
  },
  {
   "cell_type": "markdown",
   "metadata": {},
   "source": [
    "#### Pasta templates/"
   ]
  },
  {
   "cell_type": "markdown",
   "metadata": {},
   "source": [
    "O Django permite que você configure pastas de templates específicas para cada aplicativo. Uma boa prática é organizar seus arquivos de template em uma estrutura que reflita os aplicativos do projeto."
   ]
  },
  {
   "cell_type": "raw",
   "metadata": {
    "vscode": {
     "languageId": "raw"
    }
   },
   "source": [
    "myproject/\n",
    "├── myapp/\n",
    "│   ├── templates/\n",
    "│   │   └── myapp/\n",
    "│   │       └── base.html\n",
    "│   │       └── pagina_inicial.html"
   ]
  },
  {
   "cell_type": "markdown",
   "metadata": {},
   "source": [
    "### Django Template Language (DTL): Estruturas e Sintaxe"
   ]
  },
  {
   "cell_type": "markdown",
   "metadata": {},
   "source": [
    "#### O que é DTL?"
   ]
  },
  {
   "cell_type": "markdown",
   "metadata": {},
   "source": [
    "A Django Template Language (DTL) é a linguagem usada para inserir variáveis, controle de fluxo e execução de lógica simples dentro dos templates."
   ]
  },
  {
   "cell_type": "markdown",
   "metadata": {},
   "source": [
    "#### Renderizando variáveis em um template"
   ]
  },
  {
   "cell_type": "markdown",
   "metadata": {},
   "source": [
    "As variáveis são referenciadas utilizando {{ }} no template."
   ]
  },
  {
   "cell_type": "code",
   "execution_count": null,
   "metadata": {},
   "outputs": [],
   "source": [
    "produtos = ['pão', 'queijo', 'coca cola']\n",
    "return render(request, 'produtos.html', {'produtos': produtos})"
   ]
  },
  {
   "cell_type": "markdown",
   "metadata": {},
   "source": [
    "No template, você renderiza essas variáveis assim"
   ]
  },
  {
   "cell_type": "code",
   "execution_count": null,
   "metadata": {
    "vscode": {
     "languageId": "html"
    }
   },
   "outputs": [],
   "source": [
    "<ul>\n",
    "    {% for produto in produtos %}\n",
    "        <li>{{ produto }}</li>\n",
    "    {% endfor %}\n",
    "</ul>"
   ]
  },
  {
   "cell_type": "markdown",
   "metadata": {},
   "source": [
    "#### Controle de Fluxo e Lógica\n",
    "\n",
    "As tags de controle de fluxo permitem que você adicione lógica nos seus templates."
   ]
  },
  {
   "cell_type": "markdown",
   "metadata": {},
   "source": [
    "    for"
   ]
  },
  {
   "cell_type": "markdown",
   "metadata": {},
   "source": [
    "Usada para iterar sobre listas ou outros iteráveis, como em uma lista de produtos."
   ]
  },
  {
   "cell_type": "code",
   "execution_count": null,
   "metadata": {
    "vscode": {
     "languageId": "html"
    }
   },
   "outputs": [],
   "source": [
    "<ul>\n",
    "    {% for produto in produtos %}\n",
    "        <li>{{ produto }}</li>\n",
    "    {% endfor %}\n",
    "</ul>\n"
   ]
  },
  {
   "cell_type": "markdown",
   "metadata": {},
   "source": [
    "    if"
   ]
  },
  {
   "cell_type": "markdown",
   "metadata": {},
   "source": [
    "Usada para criar condicionais, permitindo que você renderize conteúdo de forma condicional."
   ]
  },
  {
   "cell_type": "code",
   "execution_count": null,
   "metadata": {
    "vscode": {
     "languageId": "html"
    }
   },
   "outputs": [],
   "source": [
    "{% if usuario_autenticado %}\n",
    "    <p>Bem-vindo, {{ usuario.nome }}!</p>\n",
    "{% else %}\n",
    "    <p>Por favor, faça login.</p>\n",
    "{% endif %}"
   ]
  },
  {
   "cell_type": "markdown",
   "metadata": {},
   "source": [
    "## Conexão Front-end X Back-end"
   ]
  },
  {
   "cell_type": "markdown",
   "metadata": {},
   "source": [
    "Vamos criar o template listar_produtos.html para exibir todos os produtos retornados pela view buscar_todos_os_produtos. Esse template exibirá uma tabela com as informações dos produtos."
   ]
  },
  {
   "cell_type": "markdown",
   "metadata": {},
   "source": [
    "    View alterada para renderizar o template"
   ]
  },
  {
   "cell_type": "code",
   "execution_count": null,
   "metadata": {},
   "outputs": [],
   "source": [
    "from django.shortcuts import render\n",
    "from .models import Produto\n",
    "\n",
    "@csrf_exempt\n",
    "@require_http_methods([\"GET\"])\n",
    "def buscar_todos_os_produtos(request):\n",
    "    produtos = Produto.objects.all()  # Pegando todos os objetos Produto\n",
    "    return render(request, 'produtos/listar_produtos.html', {'produtos': produtos})  # Renderiza o template"
   ]
  },
  {
   "cell_type": "markdown",
   "metadata": {},
   "source": [
    "    Template listar_produtos.html"
   ]
  },
  {
   "cell_type": "code",
   "execution_count": null,
   "metadata": {
    "vscode": {
     "languageId": "html"
    }
   },
   "outputs": [],
   "source": [
    "<!DOCTYPE html>\n",
    "<html lang=\"pt-BR\">\n",
    "<head>\n",
    "    <meta charset=\"UTF-8\">\n",
    "    <meta name=\"viewport\" content=\"width=device-width, initial-scale=1.0\">\n",
    "    <title>Lista de Produtos</title>\n",
    "</head>\n",
    "<body>\n",
    "    <h1>Lista de Produtos</h1>\n",
    "    \n",
    "    <table border=\"1\">\n",
    "        <thead>\n",
    "            <tr>\n",
    "                <th>ID</th>\n",
    "                <th>Nome</th>\n",
    "                <th>Marca</th>\n",
    "                <th>Preço</th>\n",
    "                <th>Estoque</th>\n",
    "            </tr>\n",
    "        </thead>\n",
    "        <tbody>\n",
    "            {% for produto in produtos %}\n",
    "                <tr>\n",
    "                    <td>{{ produto.id }}</td>\n",
    "                    <td>{{ produto.nome }}</td>\n",
    "                    <td>{{ produto.marca }}</td>\n",
    "                    <td>{{ produto.preco }}</td>\n",
    "                    <td>{{ produto.estoque }}</td>\n",
    "                </tr>\n",
    "            {% endfor %}\n",
    "        </tbody>\n",
    "    </table>\n",
    "</body>\n",
    "</html>\n"
   ]
  },
  {
   "cell_type": "markdown",
   "metadata": {},
   "source": [
    "### Forms\n",
    "\n",
    "Os forms do Django são uma parte fundamental do framework, permitindo que você manipule dados de entrada do usuário de maneira eficiente e segura. Os forms no Django ajudam na validação e renderização de formulários HTML, além de permitir a fácil manipulação de dados provenientes de requisições."
   ]
  },
  {
   "cell_type": "markdown",
   "metadata": {},
   "source": [
    "#### Principais Características dos Forms do Django"
   ]
  },
  {
   "cell_type": "markdown",
   "metadata": {},
   "source": [
    "**Validação Automática**:O Django oferece validação automática dos dados enviados através de formulários. Você pode definir regras de validação e, se os dados não atenderem a essas regras, o Django retorna mensagens de erro informativas.\n",
    "\n",
    "**Renderização Simples**:Com a ajuda dos forms do Django, você pode renderizar rapidamente os campos de entrada no HTML. Isso facilita a criação de interfaces de usuário para coleta de dados.\n",
    "\n",
    "**Integração com Modelos**:Os forms do Django podem ser facilmente integrados com modelos do Django, permitindo que você crie formulários a partir de um modelo existente. Isso é feito através do uso de ModelForm.\n",
    "\n",
    "**Segurança**:O Django protege automaticamente seus formulários contra ataques CSRF (Cross-Site Request Forgery) e XSS (Cross-Site Scripting).\n",
    "Estilo Personalizado:\n",
    "\n",
    "Você pode personalizar a aparência dos formulários, definindo classes CSS, atributos HTML e outros estilos diretamente nos campos do formulário."
   ]
  },
  {
   "cell_type": "markdown",
   "metadata": {},
   "source": [
    "### Estrutura do Projeto"
   ]
  },
  {
   "cell_type": "raw",
   "metadata": {
    "vscode": {
     "languageId": "raw"
    }
   },
   "source": [
    "myproject/\n",
    "├── myapp/\n",
    "│   ├── migrations/\n",
    "│   ├── templates/\n",
    "│   │   ├── cadastrar_produto.html\n",
    "│   │   ├── sucesso.html\n",
    "│   ├── __init__.py\n",
    "│   ├── admin.py\n",
    "│   ├── apps.py\n",
    "│   ├── forms.py  # Aqui está o seu formulário\n",
    "│   ├── models.py  # Aqui está o seu modelo Produto\n",
    "│   ├── tests.py\n",
    "│   ├── urls.py  # Aqui adicionamos a URL do formulário\n",
    "│   └── views.py  # Aqui está a sua view de cadastro"
   ]
  },
  {
   "cell_type": "markdown",
   "metadata": {},
   "source": [
    "#### Criar o Formulário"
   ]
  },
  {
   "cell_type": "code",
   "execution_count": null,
   "metadata": {},
   "outputs": [],
   "source": [
    "# forms.py\n",
    "from django import forms\n",
    "from .models import Produto\n",
    "\n",
    "class ProdutoForm(forms.ModelForm):\n",
    "    class Meta:\n",
    "        model = Produto\n",
    "        fields = ['nome', 'marca', 'preco', 'estoque']\n"
   ]
  },
  {
   "cell_type": "markdown",
   "metadata": {},
   "source": [
    "#### Inserindo Form na View"
   ]
  },
  {
   "cell_type": "code",
   "execution_count": null,
   "metadata": {},
   "outputs": [],
   "source": [
    "# views.py\n",
    "from django.shortcuts import render, redirect\n",
    "from .forms import ProdutoForm\n",
    "\n",
    "def cadastrar_produto(request):\n",
    "    if request.method == 'POST':\n",
    "        form = ProdutoForm(request.POST)\n",
    "        if form.is_valid():  # Verifica se o formulário é válido\n",
    "            form.save()  # Salva o produto no banco de dados\n",
    "            return redirect('sucesso')  # Redireciona para uma página de sucesso\n",
    "    else:\n",
    "        form = ProdutoForm()  # Cria um novo formulário vazio\n",
    "    \n",
    "    return render(request, 'cadastrar_produto.html', {'form': form})"
   ]
  }
 ],
 "metadata": {
  "language_info": {
   "name": "python"
  }
 },
 "nbformat": 4,
 "nbformat_minor": 2
}

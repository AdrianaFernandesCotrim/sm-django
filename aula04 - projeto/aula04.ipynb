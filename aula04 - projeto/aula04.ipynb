{
 "cells": [
  {
   "cell_type": "markdown",
   "metadata": {},
   "source": [
    "# Projeto: Sistema de Biblioteca - \"BookManager\""
   ]
  },
  {
   "cell_type": "markdown",
   "metadata": {},
   "source": [
    "**Descrição**: O **BookManager** é um sistema para o gerenciamento de livros em uma biblioteca. O objetivo é permitir que o usuario da biblioteca possa adicionar novos livros, listar todos os livros disponíveis, atualizar as informações de um livro existente e excluir um livro."
   ]
  },
  {
   "cell_type": "markdown",
   "metadata": {},
   "source": [
    "## Requisitos do Sistema"
   ]
  },
  {
   "cell_type": "markdown",
   "metadata": {},
   "source": [
    "**Listar Livros**: Permitir que o administrador veja uma lista de todos os livros disponíveis na biblioteca com suas informações, como título, autor, data de publicação e número de páginas.\n",
    "\n",
    "**Adicionar Livro**: Permitir que o administrador adicione novos livros ao sistema fornecendo título, autor, data de publicação e número de páginas.\n",
    "\n",
    "**Atualizar Livro**: Permitir que o administrador atualize as informações de um livro existente (título, autor, data de publicação e número de páginas).\n",
    "\n",
    "**Excluir Livro**: Permitir que o administrador remova um livro do sistema."
   ]
  },
  {
   "cell_type": "markdown",
   "metadata": {},
   "source": [
    "## Estrutura do Projeto"
   ]
  },
  {
   "cell_type": "markdown",
   "metadata": {},
   "source": [
    "Modelos (Models): Criar o modelo Livro com os seguintes atributos:\n",
    "\n",
    "    titulo: CharField (título do livro).\n",
    "    autor: CharField (nome do autor).\n",
    "    data_publicacao: DateField (data de publicação do livro).\n",
    "    numero_paginas: IntegerField (número de páginas do livro)."
   ]
  },
  {
   "cell_type": "markdown",
   "metadata": {},
   "source": [
    "### O Que Aprendo Construindo O Projeto?"
   ]
  },
  {
   "cell_type": "markdown",
   "metadata": {},
   "source": [
    "**Fundamentos do Django**\n",
    "\n",
    "    Criação de Aplicações: Aprender a criar e estruturar uma aplicação Django, entendendo como funciona o modelo MVC (Model-View-Controller), que no Django é conhecido como MVT (Model-View-Template).\n",
    "    \n",
    "    Configuração de URLs: Compreender como mapear URLs para views específicas e implementar uma API RESTful simples."
   ]
  },
  {
   "cell_type": "markdown",
   "metadata": {},
   "source": [
    "**Modelagem de Dados**\n",
    "\n",
    "    Definição de Modelos: Aprender a definir modelos no Django utilizando a ORM (Object-Relational Mapping) para interagir com o banco de dados.\n",
    "\n",
    "    Migrações: Entender o processo de migração e como o Django gerencia alterações na estrutura do banco de dados."
   ]
  },
  {
   "cell_type": "markdown",
   "metadata": {},
   "source": [
    "**Manipulação de Dados**\n",
    "\n",
    "    Operações CRUD: Aprender a implementar as operações básicas de CRUD (Create, Read, Update, Delete) para gerenciar registros em um banco de dados.\n",
    "\n",
    "    Serialização de Dados: Compreender como transformar dados de modelos em formatos que possam ser facilmente retornados em respostas JSON."
   ]
  },
  {
   "cell_type": "markdown",
   "metadata": {},
   "source": [
    "**Tratamento de Requisições HTTP**\n",
    "\n",
    "    Métodos HTTP: Aprender sobre os diferentes métodos HTTP (GET, POST, PUT, DELETE) e como usá-los corretamente em uma API.\n",
    "\n",
    "    Manuseio de Dados JSON: Trabalhar com JSON para transferir dados entre o cliente e o servidor, incluindo a manipulação de dados recebidos nas requisições."
   ]
  },
  {
   "cell_type": "markdown",
   "metadata": {},
   "source": [
    "**Práticas de Desenvolvimento**\n",
    "\n",
    "    Uso de Decoradores: Aprender a utilizar decoradores, como @require_http_methods e @csrf_exempt, para controlar o acesso às views.\n",
    "\n",
    "    Tratamento de Erros: Implementar tratamento de erros adequado, como retornar mensagens de erro quando um livro não é encontrado."
   ]
  }
 ],
 "metadata": {
  "language_info": {
   "name": "python"
  }
 },
 "nbformat": 4,
 "nbformat_minor": 2
}

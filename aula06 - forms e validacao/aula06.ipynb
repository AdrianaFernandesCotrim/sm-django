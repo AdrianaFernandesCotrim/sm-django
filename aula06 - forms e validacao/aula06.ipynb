{
 "cells": [
  {
   "cell_type": "markdown",
   "metadata": {},
   "source": [
    "# Forms e Validação"
   ]
  },
  {
   "cell_type": "markdown",
   "metadata": {},
   "source": [
    "## Oque é o Forms?\n",
    "\n",
    "Quando estamos desenvolvendo uma aplicação web, é comum permitir que os usuários enviem informações através de formulários. O Django facilita a criação e gerenciamento de formulários, tornando o processo mais seguro e eficiente.\n",
    "\n",
    "Os forms do Django são uma parte fundamental do framework, permitindo que você manipule dados de entrada do usuário de maneira eficiente e segura. Os forms no Django ajudam na validação e renderização de formulários HTML, além de permitir a fácil manipulação de dados provenientes de requisições."
   ]
  },
  {
   "cell_type": "markdown",
   "metadata": {},
   "source": [
    "### Principais Características dos Forms do Django"
   ]
  },
  {
   "cell_type": "markdown",
   "metadata": {},
   "source": [
    "**Validação Automática**:O Django oferece validação automática dos dados enviados através de formulários. Você pode definir regras de validação e, se os dados não atenderem a essas regras, o Django retorna mensagens de erro informativas.\n",
    "\n",
    "**Renderização Simples**:Com a ajuda dos forms do Django, você pode renderizar rapidamente os campos de entrada no HTML. Isso facilita a criação de interfaces de usuário para coleta de dados.\n",
    "\n",
    "**Integração com Modelos**:Os forms do Django podem ser facilmente integrados com modelos do Django, permitindo que você crie formulários a partir de um modelo existente. Isso é feito através do uso de ModelForm.\n",
    "\n",
    "**Segurança**:O Django protege automaticamente seus formulários contra ataques CSRF (Cross-Site Request Forgery) e XSS (Cross-Site Scripting).\n",
    "Estilo Personalizado:\n",
    "\n",
    "Você pode personalizar a aparência dos formulários, definindo classes CSS, atributos HTML e outros estilos diretamente nos campos do formulário."
   ]
  },
  {
   "cell_type": "markdown",
   "metadata": {},
   "source": [
    "### Estrutura do Projeto"
   ]
  },
  {
   "cell_type": "code",
   "execution_count": null,
   "metadata": {
    "vscode": {
     "languageId": "plaintext"
    }
   },
   "outputs": [],
   "source": [
    "myproject/\n",
    "├── myapp/\n",
    "│   ├── migrations/\n",
    "│   ├── templates/\n",
    "│   │   ├── cadastrar_produto.html\n",
    "│   │   ├── sucesso.html\n",
    "│   ├── __init__.py\n",
    "│   ├── admin.py\n",
    "│   ├── apps.py\n",
    "│   ├── forms.py  # Aqui está o seu formulário\n",
    "│   ├── models.py  # Aqui está o seu modelo Produto\n",
    "│   ├── tests.py\n",
    "│   ├── urls.py  # Aqui adicionamos a URL do formulário\n",
    "│   └── views.py  # Aqui está a sua view de cadastro"
   ]
  },
  {
   "cell_type": "markdown",
   "metadata": {},
   "source": [
    "### Criando formulários com Django Forms\n",
    "\n",
    "Em vez de criar manualmente todos os campos do formulário, podemos usar um ModelForm para criar formulários diretamente a partir de um modelo Django. Isso facilita o trabalho e reduz a duplicação de código."
   ]
  },
  {
   "cell_type": "code",
   "execution_count": null,
   "metadata": {},
   "outputs": [],
   "source": [
    "from django.forms import ModelForm\n",
    "from .models import Produto\n",
    "\n",
    "class ProdutoModelForm(ModelForm):\n",
    "    class Meta:\n",
    "        model = Produto\n",
    "        fields = ['nome', 'preco', 'estoque']"
   ]
  },
  {
   "cell_type": "markdown",
   "metadata": {},
   "source": [
    "Isso gera automaticamente o formulário com base nos campos do modelo Produto."
   ]
  },
  {
   "cell_type": "markdown",
   "metadata": {},
   "source": [
    "### Processamento de formulários \n",
    "\n",
    "Quando lidamos com formulários, é importante entender o ciclo de requisição HTTP. Ao acessar a página pela primeira vez, a requisição é via GET. Quando o usuário submete o formulário, a requisição é POST."
   ]
  },
  {
   "cell_type": "code",
   "execution_count": null,
   "metadata": {},
   "outputs": [],
   "source": [
    "@csrf_exempt  # Exclui a verificação de token CSRF (use com cautela)\n",
    "def criar_produto(request):\n",
    "    if request.method == 'POST':\n",
    "        # Instancia o formulário com os dados recebidos na requisição POST\n",
    "        form = ProdutoForm(request.POST)\n",
    "        \n",
    "        # Verifica se os dados do formulário são válidos\n",
    "        if form.is_valid():\n",
    "            # Salva o produto no banco de dados\n",
    "            produto = form.save()\n",
    "           \n",
    "    else:\n",
    "        form = ProdutoForm()  # Cria um formulário vazio para GET\n",
    "    \n",
    "    # Renderiza o template com o formulário\n",
    "    return render(request, 'criar_produto.html', {'form': form})"
   ]
  },
  {
   "cell_type": "markdown",
   "metadata": {},
   "source": [
    "Exibindo o ModelForm na View"
   ]
  },
  {
   "cell_type": "code",
   "execution_count": null,
   "metadata": {},
   "outputs": [],
   "source": [
    "@csrf_exempt  # Exclui a verificação de token CSRF (use com cautela)\n",
    "def criar_produto(request):\n",
    "    if request.method == 'POST':\n",
    "        # Instancia o formulário com os dados recebidos na requisição POST\n",
    "        form = ProdutoForm(request.POST)\n",
    "        \n",
    "        # Verifica se os dados do formulário são válidos\n",
    "        if form.is_valid():\n",
    "            # Salva o produto no banco de dados\n",
    "            produto = form.save()\n",
    "            # Redireciona para uma página de sucesso ou outra view\n",
    "            return redirect('produto_sucesso')  # Altere para a URL de redirecionamento desejada\n",
    "    else:\n",
    "        form = ProdutoForm()  # Cria um formulário vazio para GET\n",
    "    \n",
    "    # Renderiza o template com o formulário\n",
    "    return render(request, 'criar_produto.html', {'form': form})"
   ]
  },
  {
   "cell_type": "markdown",
   "metadata": {},
   "source": [
    "### renderizando no template"
   ]
  },
  {
   "cell_type": "raw",
   "metadata": {
    "vscode": {
     "languageId": "raw"
    }
   },
   "source": [
    "<!DOCTYPE html>\n",
    "<html lang=\"pt-BR\">\n",
    "<head>\n",
    "    <meta charset=\"UTF-8\">\n",
    "    <meta name=\"viewport\" content=\"width=device-width, initial-scale=1.0\">\n",
    "    <title>Criar Produto</title>\n",
    "</head>\n",
    "<body>\n",
    "    <h1>Criar Produto</h1>\n",
    "    <form method=\"POST\">\n",
    "        \n",
    "        {{ form.as_p }}  <!-- Renderiza o formulário -->\n",
    "        <button type=\"submit\">Criar Produto</button>\n",
    "    </form>\n",
    "\n",
    "    {% if form.errors %}\n",
    "        <ul>\n",
    "            {% for field in form %}\n",
    "                {% for error in field.errors %}\n",
    "                    <li>{{ error }}</li>\n",
    "                {% endfor %}\n",
    "            {% endfor %}\n",
    "            {% for error in form.non_field_errors %}\n",
    "                <li>{{ error }}</li>\n",
    "            {% endfor %}\n",
    "        </ul>\n",
    "    {% endif %}\n",
    "</body>\n",
    "</html>"
   ]
  },
  {
   "cell_type": "markdown",
   "metadata": {},
   "source": [
    "## O que é Validação?\n",
    "\n",
    "Validação é o processo de garantir que os dados fornecidos pelo usuário em um formulário atendam a certos critérios ou regras definidas antes de serem processados e armazenados. Esse processo é fundamental para assegurar a integridade, a segurança e a qualidade dos dados em uma aplicação. "
   ]
  },
  {
   "cell_type": "markdown",
   "metadata": {},
   "source": [
    "Em Django, a validação pode ser feita de várias formas, incluindo:\n",
    "\n",
    "**Validação de Campo**: Cada campo em um formulário pode ter suas próprias regras de validação. Por exemplo, um campo de email deve conter um formato de email válido, e um campo de preço deve ser um número positivo.\n",
    "\n",
    "**Validação Personalizada**: Além das validações padrão fornecidas pelo Django, você pode implementar suas próprias regras de validação, permitindo que sua aplicação atenda a requisitos de negócios específicos.\n",
    "\n",
    "**Validação de Formulário**: Além de validar campos individuais, você pode verificar a consistência de dados em todo o formulário. Por exemplo, você pode querer garantir que duas senhas inseridas sejam idênticas."
   ]
  },
  {
   "cell_type": "markdown",
   "metadata": {},
   "source": [
    "### Importância da Validação"
   ]
  },
  {
   "cell_type": "markdown",
   "metadata": {},
   "source": [
    "**Integridade dos Dados**: Validações ajudam a garantir que apenas dados válidos e consistentes sejam armazenados no banco de dados, o que é essencial para a integridade das informações.\n",
    "\n",
    "**Segurança**: A validação ajuda a prevenir ataques como SQL Injection, Cross-Site Scripting (XSS) e outras vulnerabilidades de segurança. Por exemplo, validando que um campo não contenha scripts maliciosos.\n",
    "\n",
    "**Experiência do Usuário**: Quando os dados são validados corretamente, os usuários recebem feedback imediato sobre erros em suas entradas. Isso melhora a experiência do usuário, pois eles podem corrigir problemas antes que o formulário seja enviado.\n",
    "\n",
    "**Redução de Erros**: Com a validação, você pode evitar erros comuns, como números negativos em campos que devem ser positivos ou strings vazias em campos obrigatórios.\n",
    "\n",
    "**Facilidade de Manutenção**: Aplicações bem validadas são mais fáceis de manter e evoluir ao longo do tempo, uma vez que os requisitos de dados são claros e respeitados."
   ]
  },
  {
   "cell_type": "markdown",
   "metadata": {},
   "source": [
    "### Atualizando o Formulário com Validação Personalizada"
   ]
  },
  {
   "cell_type": "markdown",
   "metadata": {},
   "source": [
    "Você pode adicionar validação personalizada diretamente no seu formulário Django. Abaixo, adicionamos validação para garantir que o preço do produto seja positivo e que o estoque não seja negativo."
   ]
  },
  {
   "cell_type": "code",
   "execution_count": null,
   "metadata": {},
   "outputs": [],
   "source": [
    "class ProdutoForm(forms.ModelForm):\n",
    "    class Meta:\n",
    "        model = Produto\n",
    "        fields = ['nome', 'descricao', 'preco', 'estoque']\n",
    "\n",
    "    # Validação personalizada para o campo 'preco'\n",
    "    def clean_preco(self):\n",
    "        preco = self.cleaned_data.get('preco')\n",
    "        if preco <= 0:\n",
    "            raise forms.ValidationError(\"O preço deve ser um valor positivo.\")\n",
    "        return preco\n",
    "\n",
    "    # Validação personalizada para o campo 'estoque'\n",
    "    def clean_estoque(self):\n",
    "        estoque = self.cleaned_data.get('estoque')\n",
    "        if estoque < 0:\n",
    "            raise forms.ValidationError(\"O estoque não pode ser negativo.\")\n",
    "        return estoque"
   ]
  },
  {
   "cell_type": "markdown",
   "metadata": {},
   "source": [
    "### Atualizando a View para Lidar com Erros"
   ]
  },
  {
   "cell_type": "markdown",
   "metadata": {},
   "source": [
    "Agora, vamos garantir que nossa view criar_produto esteja configurada para lidar com erros de validação e exibir mensagens apropriadas."
   ]
  },
  {
   "cell_type": "code",
   "execution_count": null,
   "metadata": {},
   "outputs": [],
   "source": [
    "@csrf_exempt  # Exclui a verificação de token CSRF (use com cautela)\n",
    "def criar_produto(request):\n",
    "    if request.method == 'POST':\n",
    "        # Instancia o formulário com os dados recebidos na requisição POST\n",
    "        form = ProdutoForm(request.POST)\n",
    "        \n",
    "        # Verifica se os dados do formulário são válidos\n",
    "        if form.is_valid():\n",
    "            # Salva o produto no banco de dados\n",
    "            produto = form.save()\n",
    "            # Redireciona para uma página de sucesso ou outra view\n",
    "            return redirect('produto_sucesso')  # Altere para a URL de redirecionamento desejada\n",
    "        else:\n",
    "            # O formulário não é válido, então ele será renderizado novamente com os erros\n",
    "            return render(request, 'criar_produto.html', {'form': form})\n",
    "    else:\n",
    "        form = ProdutoForm()  # Cria um formulário vazio para GET\n",
    "    \n",
    "    # Renderiza o template com o formulário\n",
    "    return render(request, 'criar_produto.html', {'form': form})"
   ]
  },
  {
   "cell_type": "markdown",
   "metadata": {},
   "source": [
    "Exibindo Mensagens de Erro no Template"
   ]
  },
  {
   "cell_type": "markdown",
   "metadata": {},
   "source": [
    "No template criar_produto.html, já adicionamos a lógica para exibir mensagens de erro. Vamos garantir que esta parte do código esteja clara:"
   ]
  },
  {
   "cell_type": "raw",
   "metadata": {
    "vscode": {
     "languageId": "raw"
    }
   },
   "source": [
    " <h1>Criar Produto</h1>\n",
    "    <form method=\"POST\">\n",
    "        {{ form.as_p }}  <!-- Renderiza o formulário -->\n",
    "        <button type=\"submit\">Criar Produto</button>\n",
    "    </form>\n",
    "\n",
    "    {% if form.errors %}\n",
    "        <div class=\"error\">\n",
    "            <h2>Erros no Formulário:</h2>\n",
    "            <ul>\n",
    "                {% for field in form %}\n",
    "                    {% for error in field.errors %}\n",
    "                        <li>{{ field.label }}: {{ error }}</li>\n",
    "                    {% endfor %}\n",
    "                {% endfor %}\n",
    "                {% for error in form.non_field_errors %}\n",
    "                    <li>{{ error }}</li>\n",
    "                {% endfor %}\n",
    "            </ul>\n",
    "        </div>\n",
    "    {% endif %}\n",
    "\n",
    "    {% if form.is_valid %}\n",
    "        <div class=\"success\">\n",
    "            <h2>Produto criado com sucesso!</h2>\n",
    "        </div>\n",
    "    {% endif %}"
   ]
  },
  {
   "cell_type": "markdown",
   "metadata": {},
   "source": [
    "#"
   ]
  }
 ],
 "metadata": {
  "language_info": {
   "name": "python"
  }
 },
 "nbformat": 4,
 "nbformat_minor": 2
}

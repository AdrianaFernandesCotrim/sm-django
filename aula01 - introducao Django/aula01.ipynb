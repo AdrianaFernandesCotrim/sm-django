{
 "cells": [
  {
   "cell_type": "markdown",
   "metadata": {},
   "source": [
    "# Aula 01 - Introdução A Django"
   ]
  },
  {
   "cell_type": "markdown",
   "metadata": {},
   "source": [
    "## O Que É Django?"
   ]
  },
  {
   "cell_type": "markdown",
   "metadata": {},
   "source": [
    "Django é um framework de desenvolvimento web de alto nível para a linguagem de programação Python. Ele facilita a criação de aplicativos web, fornecendo ferramentas e bibliotecas prontas para resolver muitas das tarefas comuns do desenvolvimento web, como:\n",
    "\n",
    "1. **Gerenciamento de banco de dados:** Django inclui uma camada de abstração de banco de dados chamada ORM (Object-Relational Mapping), que permite interagir com o banco de dados usando classes Python em vez de SQL diretamente.\n",
    "\n",
    "2. **Autenticação e Autorização:** Oferece um sistema de autenticação de usuários integrado, com suporte a login, logout, permissões e grupos de usuários.\n",
    "\n",
    "3. **Administração automática:** Django possui uma interface administrativa automática, gerada a partir dos modelos definidos, o que facilita a gestão de dados.\n",
    "\n",
    "4. **Roteamento de URLs:** Mapeia URLs para funções ou classes que gerenciam as requisições, facilitando a criação de rotas dinâmicas e organizadas.\n",
    "\n",
    "5. **Segurança:** Inclui proteções integradas contra vulnerabilidades comuns como injeção de SQL, falsificação de solicitação entre sites (CSRF).\n",
    "\n",
    "Django segue o princípio de \"don't repeat yourself\" (DRY), incentivando o reuso de código e a organização limpa. Ele é muito usado para criar desde sites simples até aplicações complexas, como redes sociais e sistemas de e-commerce."
   ]
  },
  {
   "cell_type": "markdown",
   "metadata": {},
   "source": [
    "![Django](https://blog.geekhunter.com.br/wp-content/uploads/2020/08/django-framework.png)"
   ]
  },
  {
   "cell_type": "markdown",
   "metadata": {},
   "source": [
    "## Arquitetura Django"
   ]
  },
  {
   "cell_type": "markdown",
   "metadata": {},
   "source": [
    "A arquitetura do Django segue o padrão MTV (Model-Template-View), que é uma variação do padrão **MVC** (Model-View-Controller) amplamente utilizado no desenvolvimento de software. Abaixo, explico os principais componentes dessa arquitetura"
   ]
  },
  {
   "cell_type": "markdown",
   "metadata": {},
   "source": [
    "### Model"
   ]
  },
  {
   "cell_type": "markdown",
   "metadata": {},
   "source": [
    "O Model no Django é responsável por definir a estrutura dos dados e interagir com o banco de dados. Ele utiliza o **ORM** (Object-Relational Mapping), permitindo que você defina suas tabelas como classes Python e manipule registros como objetos Python. Cada modelo é uma representação de uma tabela no banco de dados.\n",
    "\n",
    "Responsabilidades do Model:\n",
    "\n",
    "Definir os campos e comportamentos dos dados armazenados.\n",
    "\n",
    "Gerenciar consultas e operações no banco de dados."
   ]
  },
  {
   "cell_type": "code",
   "execution_count": null,
   "metadata": {},
   "outputs": [],
   "source": [
    "from django.db import models\n",
    "\n",
    "class Produto(models.Model):\n",
    "    nome = models.CharField(max_length=100)\n",
    "    preco = models.DecimalField(max_digits=10, decimal_places=2)\n",
    "    estoque = models.IntegerField()\n"
   ]
  },
  {
   "cell_type": "markdown",
   "metadata": {},
   "source": [
    "### View"
   ]
  },
  {
   "cell_type": "markdown",
   "metadata": {},
   "source": [
    "O View no Django funciona como um controlador (Controller no padrão MVC). Ele é responsável por processar as requisições do usuário, interagir com os modelos, e devolver a resposta apropriada, geralmente em formato HTML ou JSON, passando os dados necessários para os templates.\n",
    "\n",
    "Responsabilidades da View:\n",
    "\n",
    "Processar requisições HTTP (GET, POST, etc.).\n",
    "\n",
    "Obter dados do modelo.\n",
    "\n",
    "Renderizar a resposta usando os templates"
   ]
  },
  {
   "cell_type": "code",
   "execution_count": null,
   "metadata": {},
   "outputs": [],
   "source": [
    "from django.shortcuts import render\n",
    "from .models import Produto\n",
    "\n",
    "def listar_produtos(request):\n",
    "    produtos = Produto.objects.all()\n",
    "    return render(request, 'produto_list.html', {'produtos': produtos})\n"
   ]
  },
  {
   "cell_type": "markdown",
   "metadata": {},
   "source": [
    "### Template"
   ]
  },
  {
   "cell_type": "markdown",
   "metadata": {},
   "source": [
    "O Template no Django é o responsável por definir a apresentação dos dados. Ele utiliza uma linguagem de template própria que permite integrar variáveis e lógica simples (como laços e condições) diretamente no HTML, criando a interface para o usuário.\n",
    "\n",
    "Responsabilidades do Template:\n",
    "\n",
    "Definir como os dados serão exibidos no frontend (HTML).\n",
    "Renderizar os dados fornecidos pelas Views."
   ]
  },
  {
   "cell_type": "markdown",
   "metadata": {},
   "source": [
    "<h1>Lista de Produtos</h1>\n",
    "<ul>\n",
    "    {% for produto in produtos %}\n",
    "        <li>{{ produto.nome }} - R$ {{ produto.preco }}</li>\n",
    "    {% endfor %}\n",
    "</ul>"
   ]
  },
  {
   "cell_type": "markdown",
   "metadata": {},
   "source": [
    "### Urls"
   ]
  },
  {
   "cell_type": "markdown",
   "metadata": {},
   "source": [
    "Embora não faça parte do padrão MTV em si, o sistema de URLs no Django é essencial. Ele define as rotas que mapeiam URLs específicas para suas respectivas Views. É a forma como o Django decide qual View processar uma requisição baseada no caminho da URL."
   ]
  },
  {
   "cell_type": "code",
   "execution_count": null,
   "metadata": {},
   "outputs": [],
   "source": [
    "from django.urls import path\n",
    "from . import views\n",
    "\n",
    "urlpatterns = [\n",
    "    path('produtos/', views.listar_produtos, name='listar_produtos'),\n",
    "]"
   ]
  },
  {
   "cell_type": "markdown",
   "metadata": {},
   "source": [
    "### Modelagem estrutura"
   ]
  },
  {
   "cell_type": "markdown",
   "metadata": {},
   "source": [
    "![Django](https://encrypted-tbn0.gstatic.com/images?q=tbn:ANd9GcTuvTGgZFdOc3Fiow3dl6F1nWqQu4bvo94Xeg&s)"
   ]
  },
  {
   "cell_type": "markdown",
   "metadata": {},
   "source": [
    "## Sites e aplicações populares que utilizam Django"
   ]
  },
  {
   "cell_type": "markdown",
   "metadata": {},
   "source": [
    "Django é usado por várias empresas e sites de grande porte devido à sua escalabilidade, segurança e facilidade de desenvolvimento. Aqui estão alguns exemplos populares de sites e aplicações que utilizam Django:\n",
    "\n",
    "\n",
    "1. Instagram<br>\n",
    "Sobre: Uma das maiores redes sociais do mundo, Instagram começou sua infraestrutura usando Django devido à sua capacidade de escalar com facilidade.\n",
    "Uso do Django: Inicialmente, Django foi usado para gerenciar o backend e a lógica de negócios, principalmente no início da plataforma. À medida que cresceu, ele se tornou parte essencial do ecossistema.\n",
    "\n",
    "2. Pinterest<br>\n",
    "Sobre: Plataforma que permite aos usuários salvar e compartilhar imagens, vídeos e outros conteúdos visuais.\n",
    "Uso do Django: Django foi escolhido no início por sua capacidade de suportar o rápido crescimento e por fornecer uma plataforma segura e eficiente para armazenar e compartilhar conteúdos de maneira escalável.\n",
    "\n",
    "3. Mozilla<br>\n",
    "Sobre: Mozilla, a organização por trás do navegador Firefox, usa Django em várias de suas ferramentas e sites.<br>\n",
    "Uso do Django: Vários sites e serviços da Mozilla, incluindo seus sistemas de gerenciamento de usuários e dados, são construídos com Django.\n",
    "\n",
    "4. Spotify<br>\n",
    "Sobre: Serviço de streaming de música amplamente popular.<br>\n",
    "Uso do Django: Embora a maior parte da lógica principal seja feita em Java, Django foi usado em partes do backend para lidar com serviços complementares.\n",
    "\n",
    "5. Udemy<br>\n",
    "Sobre: Plataforma de ensino online com cursos em várias áreas.<br>\n",
    "Uso do Django: Udemy usa Django para gerenciar o backend e lidar com a lógica de negócios, como a inscrição em cursos, pagamentos e gerenciamento de usuários.\n",
    "\n",
    "6. Dropbox<br>\n",
    "Sobre: Serviço de armazenamento em nuvem.<br>\n",
    "Uso do Django: Dropbox utilizou Django em seus estágios iniciais para gerenciar o backend antes de expandir para outras soluções para lidar com a demanda de escalabilidade."
   ]
  },
  {
   "cell_type": "markdown",
   "metadata": {},
   "source": [
    "## Instalando o Django e Configurando o Ambiente"
   ]
  },
  {
   "cell_type": "markdown",
   "metadata": {},
   "source": [
    "#### Instalar Python<br>\n",
    "Django é um framework Python, então é necessário ter o Python instalado em sua máquina.\n",
    "Para verificar se o Python está instalado, execute:"
   ]
  },
  {
   "cell_type": "code",
   "execution_count": null,
   "metadata": {
    "vscode": {
     "languageId": "shellscript"
    }
   },
   "outputs": [],
   "source": [
    "python --version"
   ]
  },
  {
   "cell_type": "markdown",
   "metadata": {},
   "source": [
    "#### Criar um Ambiente Virtual\n",
    "Agora, você vai criar um ambiente virtual para o seu projeto Django.\n",
    "\n",
    "No terminal, navegue até a pasta onde você deseja criar o projeto e execute:\n"
   ]
  },
  {
   "cell_type": "code",
   "execution_count": null,
   "metadata": {
    "vscode": {
     "languageId": "shellscript"
    }
   },
   "outputs": [],
   "source": [
    "python -m venv nomeDoAmbienteVirtual"
   ]
  },
  {
   "cell_type": "markdown",
   "metadata": {},
   "source": [
    "#### Ative o ambiente virtual:\n",
    "Windows:\n"
   ]
  },
  {
   "cell_type": "code",
   "execution_count": null,
   "metadata": {
    "vscode": {
     "languageId": "shellscript"
    }
   },
   "outputs": [],
   "source": [
    "nomeDoAbiente\\Scripts\\activate"
   ]
  },
  {
   "cell_type": "markdown",
   "metadata": {},
   "source": [
    "Linux/macOS:"
   ]
  },
  {
   "cell_type": "code",
   "execution_count": null,
   "metadata": {
    "vscode": {
     "languageId": "shellscript"
    }
   },
   "outputs": [],
   "source": [
    "\n",
    "source venv/bin/activate"
   ]
  },
  {
   "cell_type": "markdown",
   "metadata": {},
   "source": [
    "4.Instalar o Django\n",
    "Com o ambiente virtual ativado, você pode instalar o Django usando o pip (gerenciador de pacotes do Python):"
   ]
  },
  {
   "cell_type": "code",
   "execution_count": null,
   "metadata": {
    "vscode": {
     "languageId": "shellscript"
    }
   },
   "outputs": [],
   "source": [
    "pip install django"
   ]
  },
  {
   "cell_type": "markdown",
   "metadata": {},
   "source": [
    "Para verificar se o Django foi instalado corretamente, execute:"
   ]
  },
  {
   "cell_type": "code",
   "execution_count": null,
   "metadata": {
    "vscode": {
     "languageId": "shellscript"
    }
   },
   "outputs": [],
   "source": [
    "django-admin --version"
   ]
  },
  {
   "cell_type": "markdown",
   "metadata": {},
   "source": [
    "#### Criar um Novo Projeto Django\n",
    "Agora que o Django está instalado, vamos criar um projeto Django.\n",
    "\n",
    "No diretório onde você deseja criar o projeto, execute o seguinte comando (substitua meu_projeto pelo nome do seu projeto):"
   ]
  },
  {
   "cell_type": "code",
   "execution_count": null,
   "metadata": {
    "vscode": {
     "languageId": "shellscript"
    }
   },
   "outputs": [],
   "source": [
    "django-admin startproject meu_projeto ."
   ]
  },
  {
   "cell_type": "raw",
   "metadata": {
    "vscode": {
     "languageId": "raw"
    }
   },
   "source": [
    "Isso criará uma estrutura de diretórios como esta:\n",
    "\n",
    "manage.py\n",
    "meu_projeto/\n",
    "    __init__.py\n",
    "    settings.py\n",
    "    urls.py\n",
    "    asgi.py\n",
    "    wsgi.py"
   ]
  },
  {
   "cell_type": "markdown",
   "metadata": {},
   "source": [
    "#### Executar o Servidor de Desenvolvimento\n",
    "\n",
    "Agora que o projeto está criado, você pode iniciar o servidor de desenvolvimento para testar se tudo está funcionando.\n",
    "\n",
    "Navegue até a pasta do projeto (aquela que contém o manage.py):"
   ]
  },
  {
   "cell_type": "code",
   "execution_count": null,
   "metadata": {
    "vscode": {
     "languageId": "shellscript"
    }
   },
   "outputs": [],
   "source": [
    "cd meu_projeto"
   ]
  },
  {
   "cell_type": "markdown",
   "metadata": {},
   "source": [
    "Execute o servidor de desenvolvimento com o comando:\n"
   ]
  },
  {
   "cell_type": "code",
   "execution_count": null,
   "metadata": {
    "vscode": {
     "languageId": "shellscript"
    }
   },
   "outputs": [],
   "source": [
    "python manage.py runserver"
   ]
  },
  {
   "cell_type": "markdown",
   "metadata": {},
   "source": [
    "## Funcionalidade do Core do Django"
   ]
  },
  {
   "cell_type": "markdown",
   "metadata": {},
   "source": [
    "#### manage.py\n",
    "Esse script é o ponto de entrada para várias tarefas administrativas no projeto Django, como rodar o servidor, aplicar migrações, criar superusuários, entre outras."
   ]
  },
  {
   "cell_type": "code",
   "execution_count": null,
   "metadata": {},
   "outputs": [],
   "source": [
    "\"\"\"manage.py: Script de gerenciamento do Django para tarefas administrativas.\"\"\"\n",
    "import os\n",
    "import sys\n",
    "\n",
    "def main():\n",
    "    \"\"\"Ponto de entrada do script. Configura o ambiente e delega para a ferramenta de comando do Django.\"\"\"\n",
    "    os.environ.setdefault('DJANGO_SETTINGS_MODULE', 'meu_projeto.settings')\n",
    "    try:\n",
    "        from django.core.management import execute_from_command_line\n",
    "    except ImportError as exc:\n",
    "        raise ImportError(\n",
    "            \"Não foi possível importar Django. Verifique se está instalado e disponível no seu ambiente.\"\n",
    "        ) from exc\n",
    "    # Executa o comando passado pela linha de comando (por exemplo, runserver, migrate, etc.)\n",
    "    execute_from_command_line(sys.argv)\n",
    "\n",
    "if __name__ == '__main__':\n",
    "    main()\n"
   ]
  },
  {
   "cell_type": "markdown",
   "metadata": {},
   "source": [
    "Função principal: Gerenciar o projeto através de comandos como runserver, migrate, createsuperuser, etc.\n",
    "Importante: Configura o módulo de configurações (arquivo settings.py) e executa os comandos apropriados fornecidos via linha de comando."
   ]
  },
  {
   "cell_type": "markdown",
   "metadata": {},
   "source": [
    "#### __init__.py\n",
    "Esse arquivo vazio indica que o diretório onde está localizado é considerado um pacote Python.\n",
    "\n",
    "Função principal: Não faz nada diretamente, mas é necessário para que o Python trate o diretório como um módulo ou pacote, permitindo a importação de outras partes do projeto."
   ]
  },
  {
   "cell_type": "markdown",
   "metadata": {},
   "source": [
    "#### settings.py\n",
    "Esse é um dos arquivos mais importantes no Django. Ele contém todas as configurações do projeto, como banco de dados, apps instalados, configurações de segurança, etc."
   ]
  },
  {
   "cell_type": "code",
   "execution_count": 2,
   "metadata": {},
   "outputs": [],
   "source": [
    "\"\"\"\n",
    "settings.py: Arquivo de configurações do projeto Django.\n",
    "\"\"\"\n",
    "\n",
    "from pathlib import Path\n",
    "\n",
    "# BASE_DIR: Diretório base do projeto\n",
    "BASE_DIR = Path(__file__).resolve().parent.parent\n",
    "\n",
    "# SECRET_KEY: Chave secreta usada para fornecer criptografia. Nunca compartilhe essa chave.\n",
    "SECRET_KEY = 'sua-chave-secreta'\n",
    "\n",
    "# DEBUG: Define se o modo de depuração está ativo (somente para desenvolvimento).\n",
    "DEBUG = True\n",
    "\n",
    "# ALLOWED_HOSTS: Lista de hosts/domínios permitidos para a aplicação.\n",
    "ALLOWED_HOSTS = []\n",
    "\n",
    "# INSTALLED_APPS: Lista de aplicativos habilitados no projeto (internos e externos).\n",
    "INSTALLED_APPS = [\n",
    "    'django.contrib.admin',  # Admin interface\n",
    "    'django.contrib.auth',   # Sistema de autenticação\n",
    "    'django.contrib.contenttypes',\n",
    "    'django.contrib.sessions',\n",
    "    'django.contrib.messages',\n",
    "    'django.contrib.staticfiles',\n",
    "]\n",
    "\n",
    "# MIDDLEWARE: Camadas intermediárias que processam requisições/respostas.\n",
    "MIDDLEWARE = [\n",
    "    'django.middleware.security.SecurityMiddleware',\n",
    "    'django.contrib.sessions.middleware.SessionMiddleware',\n",
    "    'django.middleware.common.CommonMiddleware',\n",
    "    'django.middleware.csrf.CsrfViewMiddleware',\n",
    "    'django.contrib.auth.middleware.AuthenticationMiddleware',\n",
    "    'django.contrib.messages.middleware.MessageMiddleware',\n",
    "    'django.middleware.clickjacking.XFrameOptionsMiddleware',\n",
    "]\n",
    "\n",
    "# ROOT_URLCONF: Define o módulo de configuração de URLs principal do projeto.\n",
    "ROOT_URLCONF = 'meu_projeto.urls'\n",
    "\n",
    "# TEMPLATES: Configuração de diretórios e contextos para renderização de templates HTML.\n",
    "TEMPLATES = [\n",
    "    {\n",
    "        'BACKEND': 'django.template.backends.django.DjangoTemplates',\n",
    "        'DIRS': [],\n",
    "        'APP_DIRS': True,\n",
    "        'OPTIONS': {\n",
    "            'context_processors': [\n",
    "                'django.template.context_processors.debug',\n",
    "                'django.template.context_processors.request',\n",
    "                'django.contrib.auth.context_processors.auth',\n",
    "                'django.contrib.messages.context_processors.messages',\n",
    "            ],\n",
    "        },\n",
    "    },\n",
    "]\n",
    "\n",
    "# WSGI_APPLICATION: Configuração para servidores WSGI. Usado para deploy de produção.\n",
    "WSGI_APPLICATION = 'meu_projeto.wsgi.application'\n",
    "\n",
    "# DATABASES: Configurações do banco de dados. Por padrão, usa o SQLite.\n",
    "DATABASES = {\n",
    "    'default': {\n",
    "        'ENGINE': 'django.db.backends.sqlite3',\n",
    "        'NAME': BASE_DIR / 'db.sqlite3',\n",
    "    }\n",
    "}\n",
    "\n",
    "# AUTH_PASSWORD_VALIDATORS: Validações para senhas fortes.\n",
    "\n",
    "AUTH_PASSWORD_VALIDATORS = [\n",
    "    {\n",
    "        'NAME': 'django.contrib.auth.password_validation.UserAttributeSimilarityValidator',\n",
    "    },\n",
    "    {\n",
    "        'NAME': 'django.contrib.auth.password_validation.MinimumLengthValidator',\n",
    "    },\n",
    "    {\n",
    "        'NAME': 'django.contrib.auth.password_validation.CommonPasswordValidator',\n",
    "    },\n",
    "    {\n",
    "        'NAME': 'django.contrib.auth.password_validation.NumericPasswordValidator',\n",
    "    },\n",
    "]\n",
    "\n",
    "# LANGUAGE_CODE: Código da língua usada na aplicação.\n",
    "LANGUAGE_CODE = 'en-us'\n",
    "\n",
    "# TIME_ZONE: Define o fuso horário do projeto.\n",
    "TIME_ZONE = 'UTC'\n",
    "\n",
    "# USE_I18N: Habilita a internacionalização (suporte a múltiplas línguas).\n",
    "USE_I18N = True\n",
    "\n",
    "# USE_L10N: Habilita a formatação local (para datas, números, etc.).\n",
    "USE_L10N = True\n",
    "\n",
    "# USE_TZ: Usa timezone-aware para armazenar dados de tempo.\n",
    "USE_TZ = True\n",
    "\n",
    "# STATIC_URL: URL para servir arquivos estáticos.\n",
    "STATIC_URL = '/static/'"
   ]
  },
  {
   "cell_type": "markdown",
   "metadata": {},
   "source": [
    "#### urls.py\n",
    "Este arquivo define as rotas de URL para o projeto. Ele mapeia URLs para as Views apropriadas."
   ]
  },
  {
   "cell_type": "code",
   "execution_count": 4,
   "metadata": {},
   "outputs": [],
   "source": [
    "\"\"\"\n",
    "urls.py: Mapeia URLs para as Views correspondentes no projeto Django.\n",
    "\"\"\"\n",
    "\n",
    "from django.contrib import admin\n",
    "from django.urls import path\n",
    "\n",
    "urlpatterns = [\n",
    "    path('admin/', admin.site.urls),  # URL padrão para acessar o painel administrativo\n",
    "]"
   ]
  },
  {
   "cell_type": "markdown",
   "metadata": {},
   "source": [
    "Função principal: Roteia requisições HTTP para as Views apropriadas. Neste exemplo, define o caminho para o painel de administração."
   ]
  },
  {
   "cell_type": "markdown",
   "metadata": {},
   "source": [
    "#### asgi.py\n",
    "Esse arquivo é usado para configurar o Django para servidores ASGI (Asynchronous Server Gateway Interface), suportando requisições assíncronas e WebSockets."
   ]
  },
  {
   "cell_type": "code",
   "execution_count": null,
   "metadata": {},
   "outputs": [],
   "source": [
    "\"\"\"\n",
    "asgi.py: Ponto de entrada para servidores ASGI compatíveis com Django.\n",
    "\"\"\"\n",
    "\n",
    "import os\n",
    "from django.core.asgi import get_asgi_application\n",
    "\n",
    "# Define qual arquivo de configurações o ASGI deve usar\n",
    "os.environ.setdefault('DJANGO_SETTINGS_MODULE', 'meu_projeto.settings')\n",
    "\n",
    "# Obtém a aplicação ASGI para o projeto\n",
    "application = get_asgi_application()\n"
   ]
  },
  {
   "cell_type": "markdown",
   "metadata": {},
   "source": [
    "Função principal: Configura o projeto para suportar servidores assíncronos. É útil para aplicações que precisam de alta performance e suporte a WebSockets."
   ]
  },
  {
   "cell_type": "markdown",
   "metadata": {},
   "source": [
    "#### wsgi.py\n",
    "Esse arquivo é o ponto de entrada para o WSGI (Web Server Gateway Interface), que é o padrão de servidor utilizado em produção no Django."
   ]
  },
  {
   "cell_type": "code",
   "execution_count": null,
   "metadata": {},
   "outputs": [],
   "source": [
    "\"\"\"\n",
    "wsgi.py: Ponto de entrada para servidores WSGI compatíveis com Django.\n",
    "\"\"\"\n",
    "\n",
    "import os\n",
    "from django.core.wsgi import get_wsgi_application\n",
    "\n",
    "# Define qual arquivo de configurações o WSGI deve usar\n",
    "os.environ.setdefault('DJANGO_SETTINGS_MODULE', 'meu_projeto.settings')\n",
    "\n",
    "# Obtém a aplicação WSGI para o projeto\n",
    "application = get_wsgi_application()\n"
   ]
  },
  {
   "cell_type": "markdown",
   "metadata": {},
   "source": [
    "Função principal: Configura o projeto para servidores WSGI (comumente usados em produção)."
   ]
  },
  {
   "cell_type": "markdown",
   "metadata": {},
   "source": [
    "## Apps"
   ]
  },
  {
   "cell_type": "markdown",
   "metadata": {},
   "source": [
    "#### O Que É App No Django?\n",
    "\n",
    "Um app é simplesmente um módulo Python com uma estrutura específica dentro de um projeto Django. Ele contém tudo o que é necessário para realizar uma funcionalidade particular, como modelos de dados, views (controladores), templates (views HTML), URLs e arquivos estáticos (CSS, JavaScript, imagens)."
   ]
  },
  {
   "cell_type": "raw",
   "metadata": {
    "vscode": {
     "languageId": "raw"
    }
   },
   "source": [
    "meu_projeto/\n",
    "    manage.py\n",
    "    meu_projeto/\n",
    "        __init__.py\n",
    "        settings.py\n",
    "        urls.py\n",
    "        wsgi.py\n",
    "meu_app/\n",
    "    migrations/\n",
    "    __init__.py\n",
    "    admin.py\n",
    "    apps.py\n",
    "    models.py\n",
    "    views.py\n",
    "    tests.py"
   ]
  },
  {
   "cell_type": "markdown",
   "metadata": {},
   "source": [
    "Comando para criar um app"
   ]
  },
  {
   "cell_type": "code",
   "execution_count": null,
   "metadata": {
    "vscode": {
     "languageId": "shellscript"
    }
   },
   "outputs": [],
   "source": [
    "python manage.py startapp nomeDoApp"
   ]
  },
  {
   "cell_type": "markdown",
   "metadata": {},
   "source": [
    "**admin.py**: Configurações para o painel de administração do Django (admin interface).\n",
    "\n",
    "**apps.py**: Configurações específicas do app, incluindo o nome e outras informações do app.\n",
    "\n",
    "**models.py**: Define as classes de modelos que representam tabelas no banco de dados.\n",
    "\n",
    "**views.py**: Contém as funções que lidam com requisições HTTP e retornam respostas, geralmente ligadas a templates HTML ou dados em JSON.\n",
    "\n",
    "**migrations/**: Diretório onde ficam as migrações de banco de dados (geradas automaticamente para criar e alterar tabelas).\n",
    "\n",
    "**tests.py**: Contém os testes automatizados para o app."
   ]
  },
  {
   "cell_type": "markdown",
   "metadata": {},
   "source": [
    "#### Por que usar apps no Django?"
   ]
  },
  {
   "cell_type": "markdown",
   "metadata": {},
   "source": [
    "**Modularidade**: Apps permitem que você divida seu projeto em pedaços menores e gerenciáveis. Cada app pode ser responsável por uma funcionalidade específica.\n",
    "\n",
    "**Reusabilidade**: Um app pode ser reutilizado em outros projetos. Por exemplo, você pode criar um app de \"autenticação de usuários\" e utilizá-lo em diferentes projetos Django.\n",
    "\n",
    "**Separação de preocupações**: Cada app tem seu próprio escopo, facilitando o gerenciamento de funcionalidades distintas e evitando a mistura de responsabilidades."
   ]
  },
  {
   "cell_type": "markdown",
   "metadata": {},
   "source": [
    "##### Registrando o App\n",
    "Após criar um app, você precisa registrá-lo no arquivo settings.py do projeto, na variável INSTALLED_APPS:"
   ]
  },
  {
   "cell_type": "code",
   "execution_count": null,
   "metadata": {},
   "outputs": [],
   "source": [
    "INSTALLED_APPS = [\n",
    "    'django.contrib.admin',\n",
    "    'django.contrib.auth',\n",
    "    # Seu app personalizado\n",
    "    'meu_app',\n",
    "]"
   ]
  }
 ],
 "metadata": {
  "kernelspec": {
   "display_name": "Python 3",
   "language": "python",
   "name": "python3"
  },
  "language_info": {
   "codemirror_mode": {
    "name": "ipython",
    "version": 3
   },
   "file_extension": ".py",
   "mimetype": "text/x-python",
   "name": "python",
   "nbconvert_exporter": "python",
   "pygments_lexer": "ipython3",
   "version": "3.12.2"
  }
 },
 "nbformat": 4,
 "nbformat_minor": 2
}

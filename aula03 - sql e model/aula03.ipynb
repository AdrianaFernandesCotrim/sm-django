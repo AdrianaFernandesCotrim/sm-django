{
 "cells": [
  {
   "cell_type": "markdown",
   "metadata": {},
   "source": [
    "# Sql E Model"
   ]
  },
  {
   "cell_type": "markdown",
   "metadata": {},
   "source": [
    "## O Que É Um Banco De Dados?\n",
    "\n",
    "Um banco de dados é uma coleção organizada de informações ou dados. Imagine uma grande caixa onde você guarda tudo o que precisa: informações sobre produtos, clientes, vendas, etc. No contexto digital, um banco de dados armazena essas informações de maneira estruturada, facilitando o acesso, a busca e a manipulação.\n",
    "\n",
    "Exemplo: Um banco de dados de uma escola pode conter informações sobre alunos, professores, matérias, notas e muito mais."
   ]
  },
  {
   "cell_type": "markdown",
   "metadata": {},
   "source": [
    "### Tipo De Banco De Dados\n",
    "\n",
    "Existem diversos tipos de bancos de dados, cada um com uma forma específica de organizar e gerenciar as informações. Eles são escolhidos com base nas necessidades de armazenamento, estrutura dos dados e desempenho."
   ]
  },
  {
   "cell_type": "markdown",
   "metadata": {},
   "source": [
    "#### Banco De Dados Relacional (SQL)"
   ]
  },
  {
   "cell_type": "markdown",
   "metadata": {},
   "source": [
    "- Organiza os dados em tabelas (linhas e colunas), que podem se relacionar entre si.\n",
    "\n",
    "- Usa a Linguagem SQL (Structured Query Language) para manipular e consultar dados.\n",
    "\n",
    "- É amplamente utilizado para dados estruturados e quando é necessário garantir integridade e consistência.\n"
   ]
  },
  {
   "cell_type": "markdown",
   "metadata": {},
   "source": [
    "####  Banco de Dados Não-Relacional (NoSQL)"
   ]
  },
  {
   "cell_type": "markdown",
   "metadata": {},
   "source": [
    "- Não usa tabelas para armazenar dados. Em vez disso, os dados podem ser armazenados em documentos, chave-valor, colunas largas ou grafos.\n",
    "\n",
    "- Ideal para grandes volumes de dados que mudam frequentemente e não precisam seguir uma estrutura rígida.\n",
    "\n",
    "- Muito utilizado em aplicações que exigem alta escalabilidade e flexibilidade.\n",
    "\n"
   ]
  },
  {
   "cell_type": "markdown",
   "metadata": {},
   "source": [
    "## O Que É Um SGBD?\n",
    "\n",
    "Um Sistema de Gerenciamento de Banco de Dados (SGBD) é um software que ajuda a criar, gerenciar e acessar o banco de dados. Ele serve como uma \"ponte\" entre os usuários (ou aplicativos) e o banco de dados. O SGBD permite que você insira, atualize, delete ou consulte dados de maneira eficiente.\n",
    "\n",
    "Exemplo: Se o banco de dados é como uma caixa de arquivos, o SGBD é como o assistente que organiza e busca esses arquivos para você."
   ]
  },
  {
   "cell_type": "markdown",
   "metadata": {},
   "source": [
    "## Comandos SQL\n",
    "\n",
    "Os comandos SQL (Structured Query Language) são divididos em categorias, cada uma com uma função específica para trabalhar com bancos de dados relacionais. Eles podem ser usados para criar, manipular, gerenciar e consultar dados."
   ]
  },
  {
   "cell_type": "markdown",
   "metadata": {},
   "source": [
    "### DDL (Data Definition Language) - Linguagem de Definição de Dados\n",
    "\n",
    "Os comandos DDL são usados para definir e modificar a estrutura do banco de dados, como a criação, alteração e exclusão de tabelas e índices."
   ]
  },
  {
   "cell_type": "markdown",
   "metadata": {},
   "source": [
    "**CREATE**: Cria uma nova tabela, banco de dados, índice ou outro objeto de banco de dados.<br>\n",
    "Exemplo: **CREATE TABLE usuarios (id INT, nome VARCHAR(100));**\n",
    "\n",
    "**ALTER**: Modifica a estrutura de uma tabela existente, como adicionar ou alterar colunas.<br>\n",
    "Exemplo: **ALTER TABLE usuarios ADD email VARCHAR(100)**;\n",
    "\n",
    "**DROP**: Remove uma tabela, banco de dados ou outro objeto do banco de dados.<br>\n",
    "Exemplo: **DROP TABLE usuarios**;\n",
    "\n",
    "**TRUNCATE**: Remove todos os dados de uma tabela, mas mantém sua estrutura.<br>\n",
    "Exemplo: **TRUNCATE TABLE usuarios**;"
   ]
  },
  {
   "cell_type": "markdown",
   "metadata": {},
   "source": [
    "### DML (Data Manipulation Language) - Linguagem de Manipulação de Dados\n",
    "\n",
    "Os comandos DML são usados para inserir, atualizar e excluir dados em tabelas. Eles manipulam os dados dentro da estrutura já definida."
   ]
  },
  {
   "cell_type": "markdown",
   "metadata": {},
   "source": [
    "**INSERT**: Insere novos registros em uma tabela.<br>\n",
    "Exemplo: **INSERT INTO usuarios (id, nome, email) VALUES (1, 'Maria', 'maria@email.com');**\n",
    "\n",
    "**UPDATE**: Atualiza dados existentes em uma tabela.<br>\n",
    "Exemplo: **UPDATE usuarios SET nome = 'Maria Silva' WHERE id = 1;**\n",
    "\n",
    "**DELETE**: Remove registros de uma tabela.<br>\n",
    "Exemplo: **DELETE FROM usuarios WHERE id = 1;**"
   ]
  },
  {
   "cell_type": "markdown",
   "metadata": {},
   "source": [
    "### DQL (Data Query Language) - Linguagem de Consulta de Dados\n",
    "\n",
    "Os comandos DQL são usados para consultar dados armazenados no banco de dados. A principal instrução de consulta é o SELECT."
   ]
  },
  {
   "cell_type": "markdown",
   "metadata": {},
   "source": [
    "**SELECT**: Consulta os dados de uma ou mais tabelas, permitindo selecionar colunas específicas e aplicar filtros.<br>\n",
    "Exemplo: **SELECT nome, email FROM usuarios WHERE id = 1;**"
   ]
  },
  {
   "cell_type": "markdown",
   "metadata": {},
   "source": [
    "###  DCL (Data Control Language) - Linguagem de Controle de Dados\n",
    "\n",
    "Os comandos DCL são usados para controlar o acesso aos dados no banco de dados, garantindo segurança e permissões."
   ]
  },
  {
   "cell_type": "markdown",
   "metadata": {},
   "source": [
    "**GRANT**: Concede permissões a usuários para realizar certas operações no banco de dados.<br>\n",
    "Exemplo:**GRANT SELECT ON usuarios TO usuario1;**\n",
    "\n",
    "**REVOKE**: Revoga permissões anteriormente concedidas a um usuário.<br>\n",
    "Exemplo: **REVOKE SELECT ON usuarios FROM usuario1;**"
   ]
  },
  {
   "cell_type": "markdown",
   "metadata": {},
   "source": [
    "### TCL (Transaction Control Language) - Linguagem de Controle de Transações\n",
    "\n",
    "Os comandos TCL são usados para gerenciar transações no banco de dados, garantindo que as operações de manipulação de dados sejam realizadas corretamente e de forma consistente."
   ]
  },
  {
   "cell_type": "markdown",
   "metadata": {},
   "source": [
    "**COMMIT**: Confirma todas as mudanças feitas durante a transação no banco de dados.\n",
    "Exemplo: **COMMIT;**\n",
    "\n",
    "**ROLLBACK**: Desfaz as mudanças feitas na transação, retornando o banco de dados ao estado anterior à transação.\n",
    "Exemplo: **ROLLBACK;**\n",
    "\n",
    "**SAVEPOINT**: Define um ponto dentro de uma transação para que, se necessário, parte da transação possa ser revertida.\n",
    "Exemplo: **SAVEPOINT sp1;**\n",
    "\n",
    "**SET TRANSACTION**: Define características da transação, como o nível de isolamento.\n",
    "Exemplo: **SET TRANSACTION ISOLATION LEVEL SERIALIZABLE;**"
   ]
  },
  {
   "cell_type": "markdown",
   "metadata": {},
   "source": [
    "## Models\n",
    "\n",
    "O models no Django é a forma como as tabelas do banco de dados são definidas e manipuladas na aplicação. Ele segue o padrão ORM (Object-Relational Mapping), o que significa que o Django transforma os modelos em tabelas no banco de dados e permite que você interaja com essas tabelas através de classes Python."
   ]
  },
  {
   "cell_type": "markdown",
   "metadata": {},
   "source": [
    "### Como Funciona?"
   ]
  },
  {
   "cell_type": "markdown",
   "metadata": {},
   "source": [
    "Em Django, cada classe dentro de models.py corresponde a uma tabela no banco de dados, e os atributos da classe correspondem às colunas da tabela."
   ]
  },
  {
   "cell_type": "code",
   "execution_count": null,
   "metadata": {},
   "outputs": [],
   "source": [
    "from django.db import models\n",
    "\n",
    "class Produto(models.Model):\n",
    "    nome = models.CharField(max_length=100)\n",
    "    descricao = models.TextField()\n",
    "    preco = models.DecimalField(max_digits=10, decimal_places=2)\n",
    "    estoque = models.IntegerField()\n",
    "\n",
    "    def __str__(self):\n",
    "        return self.nome"
   ]
  },
  {
   "cell_type": "markdown",
   "metadata": {},
   "source": [
    "Produto é a classe (modelo) que será convertida em uma tabela no banco de dados.\n",
    "\n",
    "nome, descricao, preco, e estoque são os campos da tabela, cada um com um tipo específico (como CharField, TextField, etc.).\n",
    "\n",
    "__str__: É um método para retornar a representação em string do objeto, útil ao visualizar o objeto no admin ou no shell do Django"
   ]
  },
  {
   "cell_type": "markdown",
   "metadata": {},
   "source": [
    "### Makemigrations e Migrate\n",
    "\n",
    "O makemigrations e o migrate são dois comandos essenciais para gerenciar o banco de dados em projetos Django, permitindo criar e aplicar alterações na estrutura do banco de dados com base nas mudanças feitas nos modelos (models)."
   ]
  },
  {
   "cell_type": "markdown",
   "metadata": {},
   "source": [
    "#### makemigrations"
   ]
  },
  {
   "cell_type": "markdown",
   "metadata": {},
   "source": [
    "**O que faz**: O comando makemigrations é responsável por detectar alterações feitas nos modelos (models) do projeto e criar um arquivo de migração. Esse arquivo de migração descreve as mudanças que precisam ser aplicadas ao banco de dados."
   ]
  },
  {
   "cell_type": "code",
   "execution_count": null,
   "metadata": {
    "vscode": {
     "languageId": "powershell"
    }
   },
   "outputs": [],
   "source": [
    "python manage.py makemigrations"
   ]
  },
  {
   "cell_type": "markdown",
   "metadata": {},
   "source": [
    "- Sempre que você adiciona, modifica ou remove um modelo ou um campo de um modelo, o Django precisa refletir essas mudanças no banco de dados.\n",
    "\n",
    "- O makemigrations lê as alterações nos seus arquivos de modelo e cria um novo arquivo de migração que define essas mudanças.\n",
    "\n",
    "- Este arquivo é apenas uma instrução sobre o que mudar, ele  aplica diretamente as alterações estruturais no banco de dados."
   ]
  },
  {
   "cell_type": "markdown",
   "metadata": {},
   "source": [
    "Exemplo de saída: Ao rodar makemigrations, o Django pode gerar uma saída semelhante a:"
   ]
  },
  {
   "cell_type": "code",
   "execution_count": null,
   "metadata": {
    "vscode": {
     "languageId": "powershell"
    }
   },
   "outputs": [],
   "source": [
    "Migrations for 'app':\n",
    "  app/migrations/0002_auto_20231002_1500.py\n",
    "    - Alter field nome on produto\n",
    "    - Add field descricao to produto\n"
   ]
  },
  {
   "cell_type": "markdown",
   "metadata": {},
   "source": [
    "#### migrate"
   ]
  },
  {
   "cell_type": "markdown",
   "metadata": {},
   "source": [
    "**O que faz**: O comando migrate aplica as migrações geradas pelo makemigrations ao banco de dados, ou seja, ele executa as alterações de estrutura que foram descritas no arquivo de migração."
   ]
  },
  {
   "cell_type": "code",
   "execution_count": null,
   "metadata": {
    "vscode": {
     "languageId": "powershell"
    }
   },
   "outputs": [],
   "source": [
    "python manage.py migrate"
   ]
  },
  {
   "cell_type": "markdown",
   "metadata": {},
   "source": [
    "##### Como funciona?"
   ]
  },
  {
   "cell_type": "markdown",
   "metadata": {},
   "source": [
    "- O migrate aplica todas as migrações pendentes ao banco de dados. Se você acabou de rodar makemigrations e criou um arquivo de migração, o comando migrate vai atualizar o banco de dados com essas alterações (como criar ou modificar tabelas, colunas, etc.).\n",
    "\n",
    "- Ele também mantém um histórico de quais migrações já foram aplicadas para evitar reaplicá-las."
   ]
  },
  {
   "cell_type": "markdown",
   "metadata": {},
   "source": [
    "Exemplo de saída: Quando rodar migrate, você pode ver algo como:"
   ]
  },
  {
   "cell_type": "code",
   "execution_count": null,
   "metadata": {
    "vscode": {
     "languageId": "powershell"
    }
   },
   "outputs": [],
   "source": [
    "Applying app.0002_auto_20231002_1500... OK"
   ]
  },
  {
   "cell_type": "markdown",
   "metadata": {},
   "source": [
    "##### Como funciona?"
   ]
  },
  {
   "cell_type": "markdown",
   "metadata": {},
   "source": [
    "Sempre que você adiciona, modifica ou remove um modelo ou um campo de um modelo, o Django precisa refletir essas mudanças no banco de dados.\n",
    "O makemigrations lê as alterações nos seus arquivos de modelo e cria um novo arquivo de migração que define essas mudanças.\n",
    "Este arquivo é apenas uma instrução sobre o que mudar, ele não aplica diretamente as alterações no banco de dados."
   ]
  },
  {
   "cell_type": "markdown",
   "metadata": {},
   "source": [
    "### Como Usar Models Com Views"
   ]
  },
  {
   "cell_type": "markdown",
   "metadata": {},
   "source": [
    "Agora vamos usar esse modelo Produto em uma view. Para isso, vamos criar views baseadas nos verbos HTTP (GET, POST, PUT, DELETE) que retornam os dados em formato JSON usando o JsonResponse."
   ]
  },
  {
   "cell_type": "code",
   "execution_count": null,
   "metadata": {},
   "outputs": [],
   "source": [
    "from django.http import JsonResponse\n",
    "from django.views.decorators.csrf import csrf_exempt\n",
    "from django.views.decorators.http import require_http_methods\n",
    "from .models import Produto\n",
    "import json"
   ]
  },
  {
   "cell_type": "code",
   "execution_count": null,
   "metadata": {},
   "outputs": [],
   "source": [
    "# Importa o decorador para restringir métodos HTTP permitidos (neste caso, somente GET)\n",
    "@require_http_methods([\"GET\"])\n",
    "def listar_produtos(request):\n",
    "    # Obtém todos os objetos da tabela 'Produto' no banco de dados e extrai os valores em formato de dicionário\n",
    "    produtos = Produto.objects.all().values()\n",
    "    \n",
    "    # Converte a lista de dicionários de produtos para JSON e retorna como resposta HTTP\n",
    "    return JsonResponse(list(produtos), safe=False)\n"
   ]
  },
  {
   "cell_type": "code",
   "execution_count": null,
   "metadata": {},
   "outputs": [],
   "source": [
    "# Exclui a verificação de token CSRF, que é usada para prevenir ataques de falsificação de requisições (deve ser usado com cautela)\n",
    "@csrf_exempt\n",
    "# Restringe o método HTTP permitido para a função (somente POST é aceito)\n",
    "@require_http_methods([\"POST\"])\n",
    "def criar_produto(request):\n",
    "    # Carrega e converte os dados JSON recebidos no corpo da requisição para um dicionário Python\n",
    "    dados = json.loads(request.body)\n",
    "    \n",
    "    # Cria um novo objeto 'Produto' com os valores extraídos dos dados enviados\n",
    "    produto = Produto.objects.create(\n",
    "        nome= dados.get('nome'),          # Obtém o nome do produto\n",
    "        descricao=dados.get('descricao'), # Obtém a descrição do produto\n",
    "        preco=dados.get('preco'),         # Obtém o preço do produto\n",
    "        estoque=dados.get('estoque')      # Obtém a quantidade de estoque\n",
    "    )\n",
    "    \n",
    "    # Retorna uma resposta JSON contendo o ID do produto criado e uma mensagem de sucesso\n",
    "    return JsonResponse({\"id\": produto.id, \"message\": \"Produto criado com sucesso!\"}, status=201)\n"
   ]
  },
  {
   "cell_type": "code",
   "execution_count": null,
   "metadata": {},
   "outputs": [],
   "source": [
    "# Exclui a verificação de token CSRF para esta view (cuidado ao usar em produção)\n",
    "@csrf_exempt\n",
    "# Restringe a função para aceitar apenas requisições do tipo PUT\n",
    "@require_http_methods([\"PUT\"])\n",
    "def atualizar_produto(request, produto_id):\n",
    "    try:\n",
    "        # Tenta obter o produto com o ID fornecido; lança uma exceção se o produto não existir\n",
    "        produto = Produto.objects.get(id=produto_id)\n",
    "        \n",
    "        # Carrega os dados JSON recebidos no corpo da requisição\n",
    "        dados = json.loads(request.body)\n",
    "        \n",
    "        # Atualiza os campos do produto com os valores recebidos, mantendo os antigos se os novos não forem fornecidos\n",
    "        produto.nome = dados.get('nome', produto.nome)           # Atualiza o nome, se fornecido\n",
    "        produto.descricao = dados.get('descricao', produto.descricao) # Atualiza a descrição, se fornecida\n",
    "        produto.preco = dados.get('preco', produto.preco)         # Atualiza o preço, se fornecido\n",
    "        produto.estoque = dados.get('estoque', produto.estoque)   # Atualiza o estoque, se fornecido\n",
    "        \n",
    "        # Salva as mudanças no banco de dados\n",
    "        produto.save()\n",
    "        \n",
    "        # Retorna uma resposta JSON indicando que o produto foi atualizado com sucesso\n",
    "        return JsonResponse({\"message\": \"Produto atualizado com sucesso!\"})\n",
    "    \n",
    "    # Caso o produto com o ID fornecido não exista, retorna uma resposta de erro 404\n",
    "    except Produto.DoesNotExist:\n",
    "        return JsonResponse({\"error\": \"Produto não encontrado\"}, status=404)\n"
   ]
  },
  {
   "cell_type": "code",
   "execution_count": null,
   "metadata": {},
   "outputs": [],
   "source": [
    "# Exclui a verificação de token CSRF para esta view (use com cautela)\n",
    "@csrf_exempt\n",
    "# Restringe a função para aceitar apenas requisições do tipo DELETE\n",
    "@require_http_methods([\"DELETE\"])\n",
    "def deletar_produto(request, produto_id):\n",
    "    try:\n",
    "        # Tenta buscar o produto com o ID fornecido; lança uma exceção se não for encontrado\n",
    "        produto = Produto.objects.get(id=produto_id)\n",
    "        \n",
    "        # Exclui o produto do banco de dados\n",
    "        produto.delete()\n",
    "        \n",
    "        # Retorna uma resposta JSON indicando que o produto foi excluído com sucesso\n",
    "        return JsonResponse({\"message\": \"Produto excluído com sucesso!\"})\n",
    "    \n",
    "    # Caso o produto com o ID fornecido não exista, retorna uma resposta de erro 404\n",
    "    except Produto.DoesNotExist:\n",
    "        return JsonResponse({\"error\": \"Produto não encontrado\"}, status=404)\n"
   ]
  },
  {
   "cell_type": "markdown",
   "metadata": {},
   "source": [
    "### Configurando rotas"
   ]
  },
  {
   "cell_type": "code",
   "execution_count": null,
   "metadata": {},
   "outputs": [],
   "source": [
    "urlpatterns = [\n",
    "    # Define uma rota para listar todos os produtos usando o método GET\n",
    "    path('produtos', views.listar_produtos),\n",
    "    \n",
    "    # Define uma rota para criar um novo produto usando o método POST\n",
    "    path('criar', views.criar_produto),\n",
    "    \n",
    "    # Define uma rota para atualizar um produto existente com o ID fornecido usando o método PUT\n",
    "    path('atualizar/<int:produto_id>', views.atualizar_produto),\n",
    "    \n",
    "    # Define uma rota para deletar um produto existente com o ID fornecido usando o método DELETE\n",
    "    path('deletar/<int:produto_id>', views.deletar_produto),\n",
    "]\n"
   ]
  }
 ],
 "metadata": {
  "language_info": {
   "name": "python"
  }
 },
 "nbformat": 4,
 "nbformat_minor": 2
}

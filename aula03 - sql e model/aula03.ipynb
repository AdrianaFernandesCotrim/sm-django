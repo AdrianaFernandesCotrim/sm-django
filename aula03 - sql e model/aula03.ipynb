{
 "cells": [
  {
   "cell_type": "markdown",
   "metadata": {},
   "source": [
    "# Sql E Model"
   ]
  },
  {
   "cell_type": "markdown",
   "metadata": {},
   "source": [
    "## O Que É Um Banco De Dados?\n",
    "\n",
    "Um banco de dados é uma coleção organizada de informações ou dados. Imagine uma grande caixa onde você guarda tudo o que precisa: informações sobre produtos, clientes, vendas, etc. No contexto digital, um banco de dados armazena essas informações de maneira estruturada, facilitando o acesso, a busca e a manipulação.\n",
    "\n",
    "Exemplo: Um banco de dados de uma escola pode conter informações sobre alunos, professores, matérias, notas e muito mais."
   ]
  },
  {
   "cell_type": "markdown",
   "metadata": {},
   "source": [
    "### Tipo De Banco De Dados\n",
    "\n",
    "Existem diversos tipos de bancos de dados, cada um com uma forma específica de organizar e gerenciar as informações. Eles são escolhidos com base nas necessidades de armazenamento, estrutura dos dados e desempenho."
   ]
  },
  {
   "cell_type": "markdown",
   "metadata": {},
   "source": [
    "#### Banco De Dados Relacional (SQL)"
   ]
  },
  {
   "cell_type": "markdown",
   "metadata": {},
   "source": [
    "- Organiza os dados em tabelas (linhas e colunas), que podem se relacionar entre si.\n",
    "\n",
    "- Usa a Linguagem SQL (Structured Query Language) para manipular e consultar dados.\n",
    "\n",
    "- É amplamente utilizado para dados estruturados e quando é necessário garantir integridade e consistência.\n"
   ]
  },
  {
   "cell_type": "markdown",
   "metadata": {},
   "source": [
    "####  Banco de Dados Não-Relacional (NoSQL)"
   ]
  },
  {
   "cell_type": "markdown",
   "metadata": {},
   "source": [
    "- Não usa tabelas para armazenar dados. Em vez disso, os dados podem ser armazenados em documentos, chave-valor, colunas largas ou grafos.\n",
    "\n",
    "- Ideal para grandes volumes de dados que mudam frequentemente e não precisam seguir uma estrutura rígida.\n",
    "\n",
    "- Muito utilizado em aplicações que exigem alta escalabilidade e flexibilidade.\n",
    "\n"
   ]
  },
  {
   "cell_type": "markdown",
   "metadata": {},
   "source": [
    "## O Que É Um SGBD?\n",
    "\n",
    "Um Sistema de Gerenciamento de Banco de Dados (SGBD) é um software que ajuda a criar, gerenciar e acessar o banco de dados. Ele serve como uma \"ponte\" entre os usuários (ou aplicativos) e o banco de dados. O SGBD permite que você insira, atualize, delete ou consulte dados de maneira eficiente.\n",
    "\n",
    "Exemplo: Se o banco de dados é como uma caixa de arquivos, o SGBD é como o assistente que organiza e busca esses arquivos para você."
   ]
  },
  {
   "cell_type": "markdown",
   "metadata": {},
   "source": [
    "## Comandos SQL\n",
    "\n",
    "Os comandos SQL (Structured Query Language) são divididos em categorias, cada uma com uma função específica para trabalhar com bancos de dados relacionais. Eles podem ser usados para criar, manipular, gerenciar e consultar dados."
   ]
  },
  {
   "cell_type": "markdown",
   "metadata": {},
   "source": [
    "### DDL (Data Definition Language) - Linguagem de Definição de Dados\n",
    "\n",
    "Os comandos DDL são usados para definir e modificar a estrutura do banco de dados, como a criação, alteração e exclusão de tabelas e índices."
   ]
  },
  {
   "cell_type": "markdown",
   "metadata": {},
   "source": [
    "**CREATE**: Cria uma nova tabela, banco de dados, índice ou outro objeto de banco de dados.<br>\n",
    "Exemplo: **CREATE TABLE usuarios (id INT, nome VARCHAR(100));**\n",
    "\n",
    "**ALTER**: Modifica a estrutura de uma tabela existente, como adicionar ou alterar colunas.<br>\n",
    "Exemplo: **ALTER TABLE usuarios ADD email VARCHAR(100)**;\n",
    "\n",
    "**DROP**: Remove uma tabela, banco de dados ou outro objeto do banco de dados.<br>\n",
    "Exemplo: **DROP TABLE usuarios**;\n",
    "\n",
    "**TRUNCATE**: Remove todos os dados de uma tabela, mas mantém sua estrutura.<br>\n",
    "Exemplo: **TRUNCATE TABLE usuarios**;"
   ]
  },
  {
   "cell_type": "markdown",
   "metadata": {},
   "source": [
    "### DML (Data Manipulation Language) - Linguagem de Manipulação de Dados\n",
    "\n",
    "Os comandos DML são usados para inserir, atualizar e excluir dados em tabelas. Eles manipulam os dados dentro da estrutura já definida."
   ]
  },
  {
   "cell_type": "markdown",
   "metadata": {},
   "source": [
    "**INSERT**: Insere novos registros em uma tabela.<br>\n",
    "Exemplo: **INSERT INTO usuarios (id, nome, email) VALUES (1, 'Maria', 'maria@email.com');**\n",
    "\n",
    "**UPDATE**: Atualiza dados existentes em uma tabela.<br>\n",
    "Exemplo: **UPDATE usuarios SET nome = 'Maria Silva' WHERE id = 1;**\n",
    "\n",
    "**DELETE**: Remove registros de uma tabela.<br>\n",
    "Exemplo: **DELETE FROM usuarios WHERE id = 1;**"
   ]
  },
  {
   "cell_type": "markdown",
   "metadata": {},
   "source": [
    "### DQL (Data Query Language) - Linguagem de Consulta de Dados\n",
    "\n",
    "Os comandos DQL são usados para consultar dados armazenados no banco de dados. A principal instrução de consulta é o SELECT."
   ]
  },
  {
   "cell_type": "markdown",
   "metadata": {},
   "source": [
    "**SELECT**: Consulta os dados de uma ou mais tabelas, permitindo selecionar colunas específicas e aplicar filtros.<br>\n",
    "Exemplo: **SELECT nome, email FROM usuarios WHERE id = 1;**"
   ]
  },
  {
   "cell_type": "markdown",
   "metadata": {},
   "source": [
    "###  DCL (Data Control Language) - Linguagem de Controle de Dados\n",
    "\n",
    "Os comandos DCL são usados para controlar o acesso aos dados no banco de dados, garantindo segurança e permissões."
   ]
  },
  {
   "cell_type": "markdown",
   "metadata": {},
   "source": [
    "**GRANT**: Concede permissões a usuários para realizar certas operações no banco de dados.<br>\n",
    "Exemplo:**GRANT SELECT ON usuarios TO usuario1;**\n",
    "\n",
    "**REVOKE**: Revoga permissões anteriormente concedidas a um usuário.<br>\n",
    "Exemplo: **REVOKE SELECT ON usuarios FROM usuario1;**"
   ]
  },
  {
   "cell_type": "markdown",
   "metadata": {},
   "source": [
    "### TCL (Transaction Control Language) - Linguagem de Controle de Transações\n",
    "\n",
    "Os comandos TCL são usados para gerenciar transações no banco de dados, garantindo que as operações de manipulação de dados sejam realizadas corretamente e de forma consistente."
   ]
  },
  {
   "cell_type": "markdown",
   "metadata": {},
   "source": [
    "**COMMIT**: Confirma todas as mudanças feitas durante a transação no banco de dados.\n",
    "Exemplo: **COMMIT;**\n",
    "\n",
    "**ROLLBACK**: Desfaz as mudanças feitas na transação, retornando o banco de dados ao estado anterior à transação.\n",
    "Exemplo: **ROLLBACK;**\n",
    "\n",
    "**SAVEPOINT**: Define um ponto dentro de uma transação para que, se necessário, parte da transação possa ser revertida.\n",
    "Exemplo: **SAVEPOINT sp1;**\n",
    "\n",
    "**SET TRANSACTION**: Define características da transação, como o nível de isolamento.\n",
    "Exemplo: **SET TRANSACTION ISOLATION LEVEL SERIALIZABLE;**"
   ]
  },
  {
   "cell_type": "markdown",
   "metadata": {},
   "source": [
    "## Models\n",
    "\n",
    "O models no Django é a forma como as tabelas do banco de dados são definidas e manipuladas na aplicação. Ele segue o padrão ORM (Object-Relational Mapping), o que significa que o Django transforma os modelos em tabelas no banco de dados e permite que você interaja com essas tabelas através de classes Python."
   ]
  },
  {
   "cell_type": "markdown",
   "metadata": {},
   "source": [
    "### Como Funciona?"
   ]
  },
  {
   "cell_type": "markdown",
   "metadata": {},
   "source": [
    "Em Django, cada classe dentro de models.py corresponde a uma tabela no banco de dados, e os atributos da classe correspondem às colunas da tabela."
   ]
  },
  {
   "cell_type": "code",
   "execution_count": null,
   "metadata": {},
   "outputs": [],
   "source": [
    "from django.db import models\n",
    "\n",
    "class Produto(models.Model):\n",
    "    nome = models.CharField(max_length=100)\n",
    "    descricao = models.TextField()\n",
    "    preco = models.DecimalField(max_digits=10, decimal_places=2)\n",
    "    estoque = models.IntegerField()\n",
    "\n",
    "    def __str__(self):\n",
    "        return self.nome"
   ]
  },
  {
   "cell_type": "markdown",
   "metadata": {},
   "source": [
    "Produto é a classe (modelo) que será convertida em uma tabela no banco de dados.\n",
    "\n",
    "nome, descricao, preco, e estoque são os campos da tabela, cada um com um tipo específico (como CharField, TextField, etc.).\n",
    "\n",
    "__str__: É um método para retornar a representação em string do objeto, útil ao visualizar o objeto no admin ou no shell do Django"
   ]
  },
  {
   "cell_type": "markdown",
   "metadata": {},
   "source": [
    "### Como Usar Models Com Views"
   ]
  },
  {
   "cell_type": "markdown",
   "metadata": {},
   "source": [
    "Agora vamos usar esse modelo Produto em uma view. Para isso, vamos criar views baseadas nos verbos HTTP (GET, POST, PUT, DELETE) que retornam os dados em formato JSON usando o JsonResponse."
   ]
  },
  {
   "cell_type": "code",
   "execution_count": null,
   "metadata": {},
   "outputs": [],
   "source": [
    "from django.http import JsonResponse\n",
    "from django.views.decorators.csrf import csrf_exempt\n",
    "from django.views.decorators.http import require_http_methods\n",
    "from .models import Produto\n",
    "import json"
   ]
  },
  {
   "cell_type": "code",
   "execution_count": null,
   "metadata": {},
   "outputs": [],
   "source": [
    "# GET: Retornar a lista de produtos\n",
    "@require_http_methods([\"GET\"])\n",
    "def listar_produtos(request):\n",
    "    produtos = Produto.objects.all().values()\n",
    "    return JsonResponse(list(produtos), safe=False)"
   ]
  },
  {
   "cell_type": "code",
   "execution_count": null,
   "metadata": {},
   "outputs": [],
   "source": [
    "# POST: Criar um novo produto\n",
    "@csrf_exempt\n",
    "@require_http_methods([\"POST\"])\n",
    "def criar_produto(request):\n",
    "    dados = json.loads(request.body)\n",
    "    produto = Produto.objects.create(\n",
    "        nome=dados.get('nome'),\n",
    "        descricao=dados.get('descricao'),\n",
    "        preco=dados.get('preco'),\n",
    "        estoque=dados.get('estoque')\n",
    "    )\n",
    "    return JsonResponse({\"id\": produto.id, \"message\": \"Produto criado com sucesso!\"}, status=201)\n"
   ]
  },
  {
   "cell_type": "code",
   "execution_count": null,
   "metadata": {},
   "outputs": [],
   "source": [
    "# PUT: Atualizar um produto existente\n",
    "@csrf_exempt\n",
    "@require_http_methods([\"PUT\"])\n",
    "def atualizar_produto(request, produto_id):\n",
    "    try:\n",
    "        produto = Produto.objects.get(id=produto_id)\n",
    "        dados = json.loads(request.body)\n",
    "        produto.nome = dados.get('nome', produto.nome)\n",
    "        produto.descricao = dados.get('descricao', produto.descricao)\n",
    "        produto.preco = dados.get('preco', produto.preco)\n",
    "        produto.estoque = dados.get('estoque', produto.estoque)\n",
    "        produto.save()\n",
    "        return JsonResponse({\"message\": \"Produto atualizado com sucesso!\"})\n",
    "    except Produto.DoesNotExist:\n",
    "        return JsonResponse({\"error\": \"Produto não encontrado\"}, status=404)\n"
   ]
  },
  {
   "cell_type": "code",
   "execution_count": null,
   "metadata": {},
   "outputs": [],
   "source": [
    "# DELETE: Excluir um produto\n",
    "@csrf_exempt\n",
    "@require_http_methods([\"DELETE\"])\n",
    "def deletar_produto(request, produto_id):\n",
    "    try:\n",
    "        produto = Produto.objects.get(id=produto_id)\n",
    "        produto.delete()\n",
    "        return JsonResponse({\"message\": \"Produto excluído com sucesso!\"})\n",
    "    except Produto.DoesNotExist:\n",
    "        return JsonResponse({\"error\": \"Produto não encontrado\"}, status=404)"
   ]
  },
  {
   "cell_type": "code",
   "execution_count": null,
   "metadata": {},
   "outputs": [],
   "source": [
    "urlpatterns = [\n",
    "    path('produtos/', views.listar_produtos, name='listar_produtos'),\n",
    "    path('produtos/criar/', views.criar_produto, name='criar_produto'),\n",
    "    path('produtos/<int:produto_id>/', views.atualizar_produto, name='atualizar_produto'),\n",
    "    path('produtos/<int:produto_id>/deletar/', views.deletar_produto, name='deletar_produto'),\n",
    "]"
   ]
  }
 ],
 "metadata": {
  "language_info": {
   "name": "python"
  }
 },
 "nbformat": 4,
 "nbformat_minor": 2
}
